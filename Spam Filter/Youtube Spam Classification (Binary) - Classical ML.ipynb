{
 "cells": [
  {
   "cell_type": "markdown",
   "id": "11c9c185",
   "metadata": {},
   "source": [
    "# Youtube Spam Comment Classification using classical ML techniques\n"
   ]
  },
  {
   "cell_type": "markdown",
   "id": "a297d86e",
   "metadata": {},
   "source": [
    "The data set was taken from UCI Machine Learning Repo\n",
    "It is a public set of comments collected for spam research. It has five datasets composed by 1,956 real messages extracted from five videos that were among the 10 most viewed on the collection period."
   ]
  },
  {
   "cell_type": "markdown",
   "id": "eb66c06b",
   "metadata": {},
   "source": [
    "Alberto, T. & Lochter, J. (2015). YouTube Spam Collection [Dataset]. UCI Machine Learning Repository. https://doi.org/10.24432/C58885."
   ]
  },
  {
   "cell_type": "markdown",
   "id": "415c31bd",
   "metadata": {},
   "source": [
    "## 1. Load libraries"
   ]
  },
  {
   "cell_type": "code",
   "execution_count": 239,
   "id": "21e9467f",
   "metadata": {},
   "outputs": [
    {
     "name": "stderr",
     "output_type": "stream",
     "text": [
      "[nltk_data] Downloading package punkt to\n",
      "[nltk_data]     C:\\Users\\Ashutosh\\AppData\\Roaming\\nltk_data...\n",
      "[nltk_data]   Package punkt is already up-to-date!\n",
      "[nltk_data] Downloading package wordnet to\n",
      "[nltk_data]     C:\\Users\\Ashutosh\\AppData\\Roaming\\nltk_data...\n",
      "[nltk_data]   Package wordnet is already up-to-date!\n",
      "[nltk_data] Downloading package omw-1.4 to\n",
      "[nltk_data]     C:\\Users\\Ashutosh\\AppData\\Roaming\\nltk_data...\n",
      "[nltk_data]   Package omw-1.4 is already up-to-date!\n",
      "[nltk_data] Downloading package stopwords to\n",
      "[nltk_data]     C:\\Users\\Ashutosh\\AppData\\Roaming\\nltk_data...\n",
      "[nltk_data]   Package stopwords is already up-to-date!\n"
     ]
    }
   ],
   "source": [
    "#Import the necessary libraries\n",
    "import pandas as pd\n",
    "import numpy as np\n",
    "import scipy as sp\n",
    "import sys, re, bs4, nltk, sklearn, matplotlib\n",
    "from bs4 import BeautifulSoup\n",
    "import datasets, transformers \n",
    "from copy import deepcopy\n",
    "from sklearn.model_selection import train_test_split\n",
    "import nltk\n",
    "from nltk.tokenize import sent_tokenize, word_tokenize\n",
    "nltk.download('punkt')\n",
    "nltk.download('wordnet')\n",
    "nltk.download('omw-1.4')\n",
    "nltk.download(\"stopwords\")\n",
    "from sklearn.feature_extraction.text import CountVectorizer\n",
    "from nltk.corpus import stopwords\n",
    "from nltk.stem import WordNetLemmatizer\n",
    "from sklearn.feature_extraction.text import TfidfVectorizer\n",
    "from sklearn.naive_bayes import MultinomialNB\n",
    "from sklearn.metrics import precision_score,classification_report,accuracy_score,recall_score\n",
    "from sklearn.linear_model import LogisticRegression\n",
    "from sklearn.svm import SVC\n",
    "import matplotlib.pyplot as plt"
   ]
  },
  {
   "cell_type": "markdown",
   "id": "cb9c0627",
   "metadata": {},
   "source": [
    "## 2. Get data"
   ]
  },
  {
   "cell_type": "code",
   "execution_count": 1,
   "id": "0b0a0ab3",
   "metadata": {},
   "outputs": [
    {
     "name": "stdout",
     "output_type": "stream",
     "text": [
      "Collecting ucimlrepoNote: you may need to restart the kernel to use updated packages.\n",
      "\n",
      "  Downloading ucimlrepo-0.0.7-py3-none-any.whl (8.0 kB)\n",
      "Requirement already satisfied: pandas>=1.0.0 in c:\\users\\ashutosh\\appdata\\local\\programs\\python\\python311\\lib\\site-packages (from ucimlrepo) (2.1.0)\n",
      "Requirement already satisfied: certifi>=2020.12.5 in c:\\users\\ashutosh\\appdata\\local\\programs\\python\\python311\\lib\\site-packages (from ucimlrepo) (2024.2.2)\n",
      "Requirement already satisfied: numpy>=1.23.2 in c:\\users\\ashutosh\\appdata\\local\\programs\\python\\python311\\lib\\site-packages (from pandas>=1.0.0->ucimlrepo) (1.25.2)\n",
      "Requirement already satisfied: python-dateutil>=2.8.2 in c:\\users\\ashutosh\\appdata\\local\\programs\\python\\python311\\lib\\site-packages (from pandas>=1.0.0->ucimlrepo) (2.8.2)\n",
      "Requirement already satisfied: pytz>=2020.1 in c:\\users\\ashutosh\\appdata\\local\\programs\\python\\python311\\lib\\site-packages (from pandas>=1.0.0->ucimlrepo) (2023.3.post1)\n",
      "Requirement already satisfied: tzdata>=2022.1 in c:\\users\\ashutosh\\appdata\\local\\programs\\python\\python311\\lib\\site-packages (from pandas>=1.0.0->ucimlrepo) (2023.3)\n",
      "Requirement already satisfied: six>=1.5 in c:\\users\\ashutosh\\appdata\\local\\programs\\python\\python311\\lib\\site-packages (from python-dateutil>=2.8.2->pandas>=1.0.0->ucimlrepo) (1.16.0)\n",
      "Installing collected packages: ucimlrepo\n",
      "Successfully installed ucimlrepo-0.0.7\n"
     ]
    },
    {
     "name": "stderr",
     "output_type": "stream",
     "text": [
      "\n",
      "[notice] A new release of pip is available: 23.1.2 -> 25.1\n",
      "[notice] To update, run: C:\\Users\\Ashutosh\\AppData\\Local\\Programs\\Python\\Python311\\python.exe -m pip install --upgrade pip\n"
     ]
    }
   ],
   "source": [
    "pip install ucimlrepo"
   ]
  },
  {
   "cell_type": "code",
   "execution_count": 86,
   "id": "08d895c6",
   "metadata": {},
   "outputs": [
    {
     "name": "stdout",
     "output_type": "stream",
     "text": [
      "{'uci_id': 380, 'name': 'YouTube Spam Collection', 'repository_url': 'https://archive.ics.uci.edu/dataset/380/youtube+spam+collection', 'data_url': 'https://archive.ics.uci.edu/static/public/380/data.csv', 'abstract': 'It is a public set of comments collected for spam research. It has five datasets composed by 1,956 real messages extracted from five videos that were among the 10 most viewed on the collection period.', 'area': 'Computer Science', 'tasks': ['Classification'], 'characteristics': ['Text'], 'num_instances': 1956, 'num_features': 3, 'feature_types': [], 'demographics': [], 'target_col': ['CLASS'], 'index_col': ['VIDEO', 'COMMENT_ID'], 'has_missing_values': 'no', 'missing_values_symbol': None, 'year_of_dataset_creation': 2015, 'last_updated': 'Wed Apr 03 2024', 'dataset_doi': '10.24432/C58885', 'creators': ['T.C. Alberto', 'J.V. Lochter'], 'intro_paper': None, 'additional_info': {'summary': 'The table below lists the datasets, the YouTube video ID, the amount of samples in each class and the total number of samples per dataset.\\r\\n\\r\\nDataset --- YouTube ID -- # Spam - # Ham - Total\\r\\nPsy ------- 9bZkp7q19f0 --- 175 --- 175 --- 350\\r\\nKatyPerry - CevxZvSJLk8 --- 175 --- 175 --- 350\\r\\nLMFAO ----- KQ6zr6kCPj8 --- 236 --- 202 --- 438\\r\\nEminem ---- uelHwf8o7_U --- 245 --- 203 --- 448\\r\\nShakira --- pRpeEdMmmQ0 --- 174 --- 196 --- 370\\r\\n\\r\\nNote: the chronological order of the comments were kept.\\r\\n', 'purpose': None, 'funded_by': None, 'instances_represent': None, 'recommended_data_splits': None, 'sensitive_data': None, 'preprocessing_description': None, 'variable_info': 'The collection is composed by one CSV file per dataset, where each line has the following attributes:\\r\\n\\r\\nCOMMENT_ID,AUTHOR,DATE,CONTENT,TAG\\r\\n\\r\\nWe offer one example bellow:\\r\\n\\r\\nz12oglnpoq3gjh4om04cfdlbgp2uepyytpw0k,Francisco Nora,2013-11-28T19:52:35,please like :D https://premium.easypromosapp.com/voteme/19924/616375350,1\\r\\n', 'citation': None}}\n",
      "         name     role         type demographic description units  \\\n",
      "0       VIDEO       ID  Categorical        None        None  None   \n",
      "1  COMMENT_ID       ID  Categorical        None        None  None   \n",
      "2      AUTHOR  Feature  Categorical        None        None  None   \n",
      "3        DATE  Feature  Categorical        None        None  None   \n",
      "4     CONTENT  Feature  Categorical        None        None  None   \n",
      "5       CLASS   Target       Binary        None        None  None   \n",
      "\n",
      "  missing_values  \n",
      "0             no  \n",
      "1             no  \n",
      "2             no  \n",
      "3             no  \n",
      "4             no  \n",
      "5             no  \n"
     ]
    }
   ],
   "source": [
    "from ucimlrepo import fetch_ucirepo \n",
    "  \n",
    "# fetch dataset \n",
    "youtube_spam_collection = fetch_ucirepo(id=380) \n",
    "  \n",
    "# data (as pandas dataframes) \n",
    "X = youtube_spam_collection.data.features \n",
    "y = youtube_spam_collection.data.targets \n",
    "  \n",
    "# metadata \n",
    "print(youtube_spam_collection.metadata) \n",
    "  \n",
    "# variable information \n",
    "print(youtube_spam_collection.variables) \n"
   ]
  },
  {
   "cell_type": "markdown",
   "id": "cb808ebb",
   "metadata": {},
   "source": [
    "## 3. Methodology"
   ]
  },
  {
   "cell_type": "markdown",
   "id": "35a124f9",
   "metadata": {},
   "source": [
    "We will prepeocess the data, tokenize, clean it (stemming, lemmization), encode it (bag of words, tf-idf), then use multiple methodes to classify it and compare resutls"
   ]
  },
  {
   "cell_type": "markdown",
   "id": "c0e4e1b7",
   "metadata": {},
   "source": [
    "    ```Input data\n",
    "    pre-processing\n",
    "        A --> Toeknization\n",
    "        B --> Stemming/Lemmization\n",
    "        C --> Encoding (Bag of Words, TF-IDF)\n",
    "    Modelling\n",
    "        D --> Model creation\n",
    "        E --> Model validation"
   ]
  },
  {
   "cell_type": "code",
   "execution_count": 3,
   "id": "ba87e28b",
   "metadata": {},
   "outputs": [
    {
     "name": "stdout",
     "output_type": "stream",
     "text": [
      "Huh, anyway check out this you[tube] channel: kobyoshi02\n",
      "Hey guys check out my new channel and our first vid THIS IS US THE  MONKEYS!!! I'm the monkey in the white shirt,please leave a like comment  and please subscribe!!!!\n",
      "just for test I have to say murdev.com\n",
      "me shaking my sexy ass on my channel enjoy ^_^ ﻿\n",
      "watch?v=vtaRGgvGtWQ   Check this out .﻿\n",
      "Hey, check out my new website!! This site is about kids stuff. kidsmediausa  . com\n",
      "Subscribe to my channel ﻿\n",
      "i turned it on mute as soon is i came on i just wanted to check the  views...﻿\n",
      "You should check my channel for Funny VIDEOS!!﻿\n",
      "and u should.d check my channel and tell me what I should do next!﻿\n",
      "Hey subscribe to me﻿\n",
      " Once you have started reading do not stop. If you do not subscribe to me  within one day you and you're entire family will die so if you want to stay  alive subscribe right now.﻿\n",
      "https://twitter.com/GBphotographyGB﻿\n",
      "subscribe like comment﻿\n",
      "please like :D https://premium.easypromosapp.com/voteme/19924/616375350﻿\n",
      "Hello! Do you like gaming, art videos, scientific experiments, tutorials,  lyrics videos, and much, much more of that? If you do please check out our  channel and subscribe to it, we've just started, but soon we hope we will  be able to cover all of our expectations... You can also check out what  we've got so far!﻿\n",
      "I'm only checking the views﻿\n",
      "http://www.ebay.com/itm/171183229277?ssPageName=STRK:MESELX:IT&amp;_trksid=p3984.m1555.l2649 ﻿\n",
      "http://ubuntuone.com/40beUutVu2ZKxK4uTgPZ8K﻿\n",
      "We are an EDM apparel company dedicated to bringing you music inspired  designs. Our clothing is perfect for any rave or music festival. We have  NEON crop tops, tank tops, t-shirts, v-necks and accessories! follow us on  Facebook or on instagraml for free giveaways news and more!! visit our site  at OnCueApparel﻿\n"
     ]
    }
   ],
   "source": [
    "for i in X['CONTENT'][0:20]:\n",
    "    print(i)"
   ]
  },
  {
   "cell_type": "markdown",
   "id": "6b10efa0",
   "metadata": {},
   "source": [
    "## 4. Data Cleaning"
   ]
  },
  {
   "cell_type": "code",
   "execution_count": 104,
   "id": "d9516592",
   "metadata": {},
   "outputs": [
    {
     "name": "stderr",
     "output_type": "stream",
     "text": [
      "C:\\Users\\Ashutosh\\AppData\\Local\\Temp\\ipykernel_20180\\313952684.py:10: MarkupResemblesLocatorWarning: The input looks more like a filename than markup. You may want to open this file and pass the filehandle into Beautiful Soup.\n",
      "  X_all = [BeautifulSoup(i, \"html.parser\").get_text() for i in X_all]\n"
     ]
    }
   ],
   "source": [
    "# We want to remove URL as comment as it will confuse the model but we will keep a flag that a url watch present here, \n",
    "#as it might be a strong indicator of a spam comment\n",
    "\n",
    "X_all = [re.sub(r'http\\S+|www\\S+|https\\S+', 'url', i, flags=re.MULTILINE) for i in X['CONTENT']]\n",
    "\n",
    "# Similarly for watch, we will remove complext suffix but keep the word watch as an input to out model\n",
    "X_all = [re.sub(r'watch\\?v=\\S+', 'watch', i, flags=re.MULTILINE) for i in X_all]\n",
    "\n",
    "# Remove any html tags by mistake\n",
    "X_all = [BeautifulSoup(i, \"html.parser\").get_text() for i in X_all]\n",
    "\n",
    "# for any emoji or emoticon replace it with the word \"emoji\" as it can be a useful feature\n",
    "X_all = [re.sub(\"[:;][)|(DP]\",\"emoji\",i) for i in X_all]\n",
    "\n",
    "# any number does not look like year should be replaced with an identifier number\n",
    "\n",
    "def not_number(string):\n",
    "    string = re.sub(\",\",\"\",string)\n",
    "    try:\n",
    "        float(string)\n",
    "        return False\n",
    "    except ValueError:\n",
    "        return True\n",
    "    \n",
    "def check_range(string_no):\n",
    "    string_no = re.sub(\",\",\"\",string_no)\n",
    "    if(float(string_no) <= 2100.0 and float(string_no) >= 1800.0):\n",
    "        return(True)\n",
    "    else:\n",
    "        return(False)\n",
    "\n",
    "def remove_suprious_num(snt):\n",
    "    token_words = word_tokenize(snt)\n",
    "    changed_words = [i if not_number(i) else \"year\" if  check_range(i) else \"largenumber\" for i in token_words]\n",
    "    return(\" \".join(changed_words))\n",
    "\n",
    "X_all = [remove_suprious_num(i) for i in X_all]\n",
    "\n",
    "# convert all to lower case\n",
    "X_all = [i.casefold() for i in X_all]\n",
    "\n",
    "# romve extra white space \n",
    "X_all = [re.sub(r'[^\\w\\s]', '', i) for i in X_all]\n",
    "\n",
    "X_all = [re.sub(r'\\s+', ' ', i).strip() for i in X_all]\n",
    "\n"
   ]
  },
  {
   "cell_type": "markdown",
   "id": "004f5559",
   "metadata": {},
   "source": [
    "## 4. Split into test and train data"
   ]
  },
  {
   "cell_type": "code",
   "execution_count": 106,
   "id": "7111e77c",
   "metadata": {},
   "outputs": [
    {
     "data": {
      "text/plain": [
       "CLASS\n",
       "1        1005\n",
       "0         951\n",
       "Name: count, dtype: int64"
      ]
     },
     "execution_count": 106,
     "metadata": {},
     "output_type": "execute_result"
    }
   ],
   "source": [
    "# Let us check the distirbution of labels, if it is highly imbalanced\n",
    "y.value_counts()"
   ]
  },
  {
   "cell_type": "markdown",
   "id": "d491828d",
   "metadata": {},
   "source": [
    "The labels seem to be very well balanced, hence we need not worry about sampling techniques (oversampling/undersampling/smote,etc)."
   ]
  },
  {
   "cell_type": "code",
   "execution_count": 107,
   "id": "3b8d1d47",
   "metadata": {},
   "outputs": [],
   "source": [
    "# we will use y to stratify so the distribution of labels is simialr in training and test data\n",
    "X_train, X_test, y_train, y_test = train_test_split(X_all, y, test_size=0.2, random_state=42, stratify=y)"
   ]
  },
  {
   "cell_type": "markdown",
   "id": "88f277e8",
   "metadata": {},
   "source": [
    "Let us check the distribution in training and test data"
   ]
  },
  {
   "cell_type": "code",
   "execution_count": 108,
   "id": "3a929767",
   "metadata": {},
   "outputs": [
    {
     "name": "stdout",
     "output_type": "stream",
     "text": [
      "CLASS\n",
      "1        804\n",
      "0        760\n",
      "Name: count, dtype: int64\n",
      "CLASS\n",
      "1        201\n",
      "0        191\n",
      "Name: count, dtype: int64\n"
     ]
    }
   ],
   "source": [
    "print(y_train.value_counts())\n",
    "print(y_test.value_counts())"
   ]
  },
  {
   "cell_type": "markdown",
   "id": "4e816a8f",
   "metadata": {},
   "source": [
    "## 5. Pre-processing and tokenization"
   ]
  },
  {
   "cell_type": "markdown",
   "id": "7a8f0ad2",
   "metadata": {},
   "source": [
    "### 5a. Remove stop words"
   ]
  },
  {
   "cell_type": "code",
   "execution_count": 110,
   "id": "96309c3a",
   "metadata": {},
   "outputs": [
    {
     "name": "stdout",
     "output_type": "stream",
     "text": [
      "<WordListCorpusReader in 'C:\\\\Users\\\\Ashutosh\\\\AppData\\\\Roaming\\\\nltk_data\\\\corpora\\\\stopwords'>\n"
     ]
    },
    {
     "data": {
      "text/plain": [
       "{'a',\n",
       " 'about',\n",
       " 'above',\n",
       " 'after',\n",
       " 'again',\n",
       " 'against',\n",
       " 'ain',\n",
       " 'all',\n",
       " 'am',\n",
       " 'an',\n",
       " 'and',\n",
       " 'any',\n",
       " 'are',\n",
       " 'aren',\n",
       " \"aren't\",\n",
       " 'as',\n",
       " 'at',\n",
       " 'be',\n",
       " 'because',\n",
       " 'been',\n",
       " 'before',\n",
       " 'being',\n",
       " 'below',\n",
       " 'between',\n",
       " 'both',\n",
       " 'but',\n",
       " 'by',\n",
       " 'can',\n",
       " 'couldn',\n",
       " \"couldn't\",\n",
       " 'd',\n",
       " 'did',\n",
       " 'didn',\n",
       " \"didn't\",\n",
       " 'do',\n",
       " 'does',\n",
       " 'doesn',\n",
       " \"doesn't\",\n",
       " 'doing',\n",
       " 'don',\n",
       " \"don't\",\n",
       " 'down',\n",
       " 'during',\n",
       " 'each',\n",
       " 'few',\n",
       " 'for',\n",
       " 'from',\n",
       " 'further',\n",
       " 'had',\n",
       " 'hadn',\n",
       " \"hadn't\",\n",
       " 'has',\n",
       " 'hasn',\n",
       " \"hasn't\",\n",
       " 'have',\n",
       " 'haven',\n",
       " \"haven't\",\n",
       " 'having',\n",
       " 'he',\n",
       " \"he'd\",\n",
       " \"he'll\",\n",
       " \"he's\",\n",
       " 'her',\n",
       " 'here',\n",
       " 'hers',\n",
       " 'herself',\n",
       " 'him',\n",
       " 'himself',\n",
       " 'his',\n",
       " 'how',\n",
       " 'i',\n",
       " \"i'd\",\n",
       " \"i'll\",\n",
       " \"i'm\",\n",
       " \"i've\",\n",
       " 'if',\n",
       " 'in',\n",
       " 'into',\n",
       " 'is',\n",
       " 'isn',\n",
       " \"isn't\",\n",
       " 'it',\n",
       " \"it'd\",\n",
       " \"it'll\",\n",
       " \"it's\",\n",
       " 'its',\n",
       " 'itself',\n",
       " 'just',\n",
       " 'll',\n",
       " 'm',\n",
       " 'ma',\n",
       " 'me',\n",
       " 'mightn',\n",
       " \"mightn't\",\n",
       " 'more',\n",
       " 'most',\n",
       " 'mustn',\n",
       " \"mustn't\",\n",
       " 'my',\n",
       " 'myself',\n",
       " 'needn',\n",
       " \"needn't\",\n",
       " 'no',\n",
       " 'nor',\n",
       " 'not',\n",
       " 'now',\n",
       " 'o',\n",
       " 'of',\n",
       " 'off',\n",
       " 'on',\n",
       " 'once',\n",
       " 'only',\n",
       " 'or',\n",
       " 'other',\n",
       " 'our',\n",
       " 'ours',\n",
       " 'ourselves',\n",
       " 'out',\n",
       " 'over',\n",
       " 'own',\n",
       " 're',\n",
       " 's',\n",
       " 'same',\n",
       " 'shan',\n",
       " \"shan't\",\n",
       " 'she',\n",
       " \"she'd\",\n",
       " \"she'll\",\n",
       " \"she's\",\n",
       " 'should',\n",
       " \"should've\",\n",
       " 'shouldn',\n",
       " \"shouldn't\",\n",
       " 'so',\n",
       " 'some',\n",
       " 'such',\n",
       " 't',\n",
       " 'than',\n",
       " 'that',\n",
       " \"that'll\",\n",
       " 'the',\n",
       " 'their',\n",
       " 'theirs',\n",
       " 'them',\n",
       " 'themselves',\n",
       " 'then',\n",
       " 'there',\n",
       " 'these',\n",
       " 'they',\n",
       " \"they'd\",\n",
       " \"they'll\",\n",
       " \"they're\",\n",
       " \"they've\",\n",
       " 'this',\n",
       " 'those',\n",
       " 'through',\n",
       " 'to',\n",
       " 'too',\n",
       " 'under',\n",
       " 'until',\n",
       " 'up',\n",
       " 've',\n",
       " 'very',\n",
       " 'was',\n",
       " 'wasn',\n",
       " \"wasn't\",\n",
       " 'we',\n",
       " \"we'd\",\n",
       " \"we'll\",\n",
       " \"we're\",\n",
       " \"we've\",\n",
       " 'were',\n",
       " 'weren',\n",
       " \"weren't\",\n",
       " 'what',\n",
       " 'when',\n",
       " 'where',\n",
       " 'which',\n",
       " 'while',\n",
       " 'who',\n",
       " 'whom',\n",
       " 'why',\n",
       " 'will',\n",
       " 'with',\n",
       " 'won',\n",
       " \"won't\",\n",
       " 'wouldn',\n",
       " \"wouldn't\",\n",
       " 'y',\n",
       " 'you',\n",
       " \"you'd\",\n",
       " \"you'll\",\n",
       " \"you're\",\n",
       " \"you've\",\n",
       " 'your',\n",
       " 'yours',\n",
       " 'yourself',\n",
       " 'yourselves'}"
      ]
     },
     "execution_count": 110,
     "metadata": {},
     "output_type": "execute_result"
    }
   ],
   "source": [
    "print(stopwords)\n",
    "stop_words = set(stopwords.words(\"english\"))\n",
    "stop_words"
   ]
  },
  {
   "cell_type": "code",
   "execution_count": 111,
   "id": "87714fc0",
   "metadata": {},
   "outputs": [],
   "source": [
    "def remove_stop_words(sent):\n",
    "    token_words = word_tokenize(sent)\n",
    "    clean_token_words = [i for i in token_words if i not in stop_words]\n",
    "    return(\" \".join(clean_token_words))"
   ]
  },
  {
   "cell_type": "code",
   "execution_count": 113,
   "id": "a3e719ef",
   "metadata": {},
   "outputs": [
    {
     "data": {
      "text/plain": [
       "['video largenumber views largenumber million people earth',\n",
       " 'head like largenumber years ago time flies',\n",
       " 'largenumber billions year',\n",
       " 'wtf subscribe channel thanx',\n",
       " 'omg',\n",
       " 'please become first subscriber thank',\n",
       " 'everyone come check new gta largenumber gameplay right watch v6_h0m5sayho',\n",
       " 'remember back popular everyone school shuffling crazy',\n",
       " 'url url largenumber please halp project',\n",
       " 'haha funny see salt westerners top views youtube goes video dont even understand keep salt']"
      ]
     },
     "execution_count": 113,
     "metadata": {},
     "output_type": "execute_result"
    }
   ],
   "source": [
    "X_train = [remove_stop_words(i) for i in X_train]\n",
    "X_test = [remove_stop_words(i) for i in X_test]\n",
    "X_train[0:10]"
   ]
  },
  {
   "cell_type": "markdown",
   "id": "57e988ab",
   "metadata": {},
   "source": [
    "### 5b. Normalization - Lemmization"
   ]
  },
  {
   "cell_type": "code",
   "execution_count": 115,
   "id": "5b5e6492",
   "metadata": {},
   "outputs": [
    {
     "data": {
      "text/plain": [
       "['video largenumber view largenumber million people earth',\n",
       " 'head like largenumber year ago time fly',\n",
       " 'largenumber billion year',\n",
       " 'wtf subscribe channel thanx',\n",
       " 'omg',\n",
       " 'please become first subscriber thank',\n",
       " 'everyone come check new gta largenumber gameplay right watch v6_h0m5sayho',\n",
       " 'remember back popular everyone school shuffling crazy',\n",
       " 'url url largenumber please halp project',\n",
       " 'haha funny see salt westerner top view youtube go video dont even understand keep salt',\n",
       " 'believe jesus christ savior sin truly believe jesus christ savior sin go heaven believe jesus christ saved salvation gained god righteousness matter much sinned past present especially future believe jesus christ savior go heaven forever whole truth spread truth',\n",
       " 'music hero',\n",
       " 'check berzerk video channel',\n",
       " 'check app solve partydrunk problem br href url playgooglecomstoreappsdetails idvnibitapplocker amp hlen url playgooglecomstoreappsdetails idvnibitapplocker amp hlen',\n",
       " 'love song make wan na dance',\n",
       " 'love song',\n",
       " 'check video youtube',\n",
       " 'check video youtube href http url http url eminem ft rihanna love way lie',\n",
       " 'absolutely adore watching football plus started earning income risk claiming bonus deal weird technique put money something one bookmaker put money betfair acquire bonus income lad named jim vanstone selecting wager free website vanstone secret google generated largenumber quid far free assume bookmaker pay get new men woman succeeds',\n",
       " 'medium evil please see share w w w farrell report net top ex uk police intelligence analyst turned whistleblower tony farrell expose horrific monstrous coverup perpetrated criminal operating crime inside mainstream entertainment medium law firm beware protect child devil brutally target innocent people real criminal linked london largenumber 77 attack year must see make viral also see uk column video 31st january year']"
      ]
     },
     "execution_count": 115,
     "metadata": {},
     "output_type": "execute_result"
    }
   ],
   "source": [
    "def normalize_data(sent,lemmitizer):\n",
    "    token_words = word_tokenize(sent)\n",
    "    clean_tokens = [lemmitizer.lemmatize(i) for i in token_words]\n",
    "    return(\" \".join(clean_tokens)) \n",
    "\n",
    "lemmitizer = WordNetLemmatizer()\n",
    "X_train = [normalize_data(i,lemmitizer) for i in X_train]\n",
    "X_test = [normalize_data(i,lemmitizer) for i in X_test]\n",
    "X_train[0:20]"
   ]
  },
  {
   "cell_type": "markdown",
   "id": "1b9b5b01",
   "metadata": {},
   "source": [
    "## 6. Numberical Encoding"
   ]
  },
  {
   "cell_type": "markdown",
   "id": "3d176c95",
   "metadata": {},
   "source": [
    "### 6a. Bag of words"
   ]
  },
  {
   "cell_type": "code",
   "execution_count": 134,
   "id": "f781f913",
   "metadata": {},
   "outputs": [],
   "source": [
    "vectorizer = CountVectorizer()\n",
    "\n",
    "# fit bag of words training data\n",
    "train_bow = vectorizer.fit_transform(X_train)\n",
    "train_bow_ary = train_bow.toarray()\n",
    "\n",
    "# fit bag of words test data\n",
    "test_bow = vectorizer.transform(X_test)\n",
    "test_bow_ary = test_bow.toarray()"
   ]
  },
  {
   "cell_type": "code",
   "execution_count": 135,
   "id": "c399dbac",
   "metadata": {},
   "outputs": [
    {
     "name": "stdout",
     "output_type": "stream",
     "text": [
      "(1564, 3168)\n",
      "(392, 3168)\n"
     ]
    }
   ],
   "source": [
    "# Shape of array of bow\n",
    "print(train_bow.toarray().shape)\n",
    "print(test_bow.toarray().shape)"
   ]
  },
  {
   "cell_type": "code",
   "execution_count": 131,
   "id": "f166727f",
   "metadata": {},
   "outputs": [
    {
     "data": {
      "text/plain": [
       "1564"
      ]
     },
     "execution_count": 131,
     "metadata": {},
     "output_type": "execute_result"
    }
   ],
   "source": [
    "# No of sentences in training data \n",
    "len(X_train)"
   ]
  },
  {
   "cell_type": "code",
   "execution_count": 132,
   "id": "ab592a6e",
   "metadata": {},
   "outputs": [
    {
     "data": {
      "text/plain": [
       "3168"
      ]
     },
     "execution_count": 132,
     "metadata": {},
     "output_type": "execute_result"
    }
   ],
   "source": [
    "# Vocab size\n",
    "len(vectorizer.vocabulary_)"
   ]
  },
  {
   "cell_type": "markdown",
   "id": "6a717661",
   "metadata": {},
   "source": [
    "### 6B. TF-IDF "
   ]
  },
  {
   "cell_type": "code",
   "execution_count": 141,
   "id": "52480937",
   "metadata": {},
   "outputs": [],
   "source": [
    "tfidf = TfidfVectorizer()\n",
    "\n",
    "# fit data to tfidf\n",
    "train_tfidf = tfidf.fit_transform(X_train)\n",
    "test_tfidf = tfidf.transform(X_test)\n"
   ]
  },
  {
   "cell_type": "code",
   "execution_count": 143,
   "id": "d0eac857",
   "metadata": {},
   "outputs": [
    {
     "name": "stdout",
     "output_type": "stream",
     "text": [
      "(1564, 3168)\n",
      "(392, 3168)\n"
     ]
    }
   ],
   "source": [
    "# array shape\n",
    "print(train_tfidf.toarray().shape)\n",
    "print(test_tfidf.shape)"
   ]
  },
  {
   "cell_type": "code",
   "execution_count": 147,
   "id": "950af97a",
   "metadata": {},
   "outputs": [
    {
     "name": "stdout",
     "output_type": "stream",
     "text": [
      "3168\n"
     ]
    }
   ],
   "source": [
    "# vocab\n",
    "print(len(tfidf.vocabulary_))"
   ]
  },
  {
   "cell_type": "markdown",
   "id": "d3dc610c",
   "metadata": {},
   "source": [
    "## 7. SPAM Classification"
   ]
  },
  {
   "cell_type": "markdown",
   "id": "c2c92765",
   "metadata": {},
   "source": [
    "### 7a. Naive Bayes Model"
   ]
  },
  {
   "cell_type": "code",
   "execution_count": 190,
   "id": "a6c45c0b",
   "metadata": {},
   "outputs": [],
   "source": [
    "#################################################\n",
    "#\n",
    "# Using bag of words\n",
    "#################################################\n",
    "\n",
    "# Initialize classifier, fit, and predict\n",
    "nb_classifier_bow = MultinomialNB()\n",
    "nb_classifier_bow.fit(train_bow_ary, np.array(y_train).ravel())\n",
    "bow_nb_prediction_train = nb_classifier_bow.predict(train_bow_ary)\n",
    "bow_nb_prediction_test = nb_classifier_bow.predict(test_bow_ary)\n"
   ]
  },
  {
   "cell_type": "code",
   "execution_count": 220,
   "id": "7b20cdc9",
   "metadata": {},
   "outputs": [
    {
     "name": "stdout",
     "output_type": "stream",
     "text": [
      "training accuracy is 0.957\n",
      "test accuracy is 0.893\n",
      "training precision is 0.951\n",
      "test precision is 0.86\n"
     ]
    }
   ],
   "source": [
    "# Training accuracy\n",
    "bow_nb_train_accuracy = accuracy_score(y_train, bow_nb_prediction_train)\n",
    "# Testing accuracy\n",
    "bow_nb_test_accuracy = accuracy_score(y_test, bow_nb_prediction_test)\n",
    "\n",
    "bow_nb_train_precision = precision_score(y_train, bow_nb_prediction_train)\n",
    "bow_nb_test_precision = precision_score(y_test, bow_nb_prediction_test)\n",
    "\n",
    "bow_nb_train_recall = recall_score(y_train, bow_nb_prediction_train)\n",
    "bow_nb_test_recall = recall_score(y_test, bow_nb_prediction_test)\n",
    "\n",
    "print(\"training accuracy is {0}\".format(round(bow_nb_train_accuracy,3)))\n",
    "print(\"test accuracy is {0}\".format(round(bow_nb_test_accuracy,3)))\n",
    "\n",
    "print(\"training precision is {0}\".format(round(bow_nb_train_precision,3)))\n",
    "print(\"test precision is {0}\".format(round(bow_nb_test_precision,3)))"
   ]
  },
  {
   "cell_type": "markdown",
   "id": "d48d8c6c",
   "metadata": {},
   "source": [
    "#### Prior and Posterior Prob"
   ]
  },
  {
   "cell_type": "code",
   "execution_count": 186,
   "id": "b44a005c",
   "metadata": {},
   "outputs": [
    {
     "name": "stdout",
     "output_type": "stream",
     "text": [
      "Log prior probabilities [-0.72168349 -0.66540265]\n",
      "Log likelihoods (log P(x_i | C_k)): [[-8.17145819 -8.17145819 -8.86460537 ... -8.17145819 -8.17145819\n",
      "  -8.86460537]\n",
      " [-9.51222116 -9.51222116 -8.81907398 ... -9.51222116 -9.51222116\n",
      "  -8.81907398]]\n"
     ]
    }
   ],
   "source": [
    "print(\"Log prior probabilities\", nb_classifier_bow.class_log_prior_)\n",
    "print(\"Log likelihoods (log P(x_i | C_k)):\",nb_classifier_bow.feature_log_prob_)"
   ]
  },
  {
   "cell_type": "code",
   "execution_count": 187,
   "id": "ce73d274",
   "metadata": {},
   "outputs": [],
   "source": [
    "#################################################\n",
    "#\n",
    "# Using tfidf\n",
    "#################################################\n",
    "\n",
    "nb_classifier_tfidf = MultinomialNB()\n",
    "nb_classifier_tfidf.fit(train_tfidf, np.array(y_train).ravel())\n",
    "\n",
    "tfidf_nb_prediction_train = nb_classifier_tfidf.predict(train_tfidf)\n",
    "tfidf_nb_prediction_test = nb_classifier_tfidf.predict(test_tfidf)\n"
   ]
  },
  {
   "cell_type": "code",
   "execution_count": 221,
   "id": "c4a0bb8e",
   "metadata": {},
   "outputs": [
    {
     "name": "stdout",
     "output_type": "stream",
     "text": [
      "training accuracy is 0.971\n",
      "test accuracy is 0.901\n",
      "training precision is 0.967\n",
      "test precision is 0.872\n"
     ]
    }
   ],
   "source": [
    "# Training accuracy\n",
    "tfidf_nb_train_accuracy = accuracy_score(y_train, tfidf_nb_prediction_train)\n",
    "# Testing accuracy\n",
    "tfidf_nb_test_accuracy = accuracy_score(y_test, tfidf_nb_prediction_test)\n",
    "\n",
    "tfidf_nb_train_precision = precision_score(y_train, tfidf_nb_prediction_train)\n",
    "tfidf_nb_test_precision = precision_score(y_test, tfidf_nb_prediction_test)\n",
    "\n",
    "tfidf_nb_train_recall = recall_score(y_train, tfidf_nb_prediction_train)\n",
    "tfidf_nb_test_recall = recall_score(y_test, tfidf_nb_prediction_test)\n",
    "\n",
    "print(\"training accuracy is {0}\".format(round(tfidf_nb_train_accuracy,3)))\n",
    "print(\"test accuracy is {0}\".format(round(tfidf_nb_test_accuracy,3)))\n",
    "\n",
    "print(\"training precision is {0}\".format(round(tfidf_nb_train_precision,3)))\n",
    "print(\"test precision is {0}\".format(round(tfidf_nb_test_precision,3)))"
   ]
  },
  {
   "cell_type": "markdown",
   "id": "82038df7",
   "metadata": {},
   "source": [
    "## 7b. Logistic Regression Model"
   ]
  },
  {
   "cell_type": "code",
   "execution_count": 202,
   "id": "3272ff96",
   "metadata": {},
   "outputs": [],
   "source": [
    "#################################################\n",
    "#\n",
    "# Using bag of words\n",
    "#################################################\n",
    "\n",
    "# Initialize classifier, fit, and predict\n",
    "logit_classifier_bow = LogisticRegression()\n",
    "logit_classifier_bow.fit(train_bow_ary, np.array(y_train).ravel())\n",
    "bow_logit_prediction_train = logit_classifier_bow.predict(train_bow_ary)\n",
    "bow_logit_prediction_test = logit_classifier_bow.predict(test_bow_ary)\n",
    "\n"
   ]
  },
  {
   "cell_type": "code",
   "execution_count": 223,
   "id": "f216977c",
   "metadata": {},
   "outputs": [
    {
     "name": "stdout",
     "output_type": "stream",
     "text": [
      "training accuracy is 0.985\n",
      "test accuracy is 0.939\n",
      "training precision is 0.994\n",
      "test precision is 0.949\n",
      "              precision    recall  f1-score   support\n",
      "\n",
      "           0       0.93      0.95      0.94       191\n",
      "           1       0.95      0.93      0.94       201\n",
      "\n",
      "    accuracy                           0.94       392\n",
      "   macro avg       0.94      0.94      0.94       392\n",
      "weighted avg       0.94      0.94      0.94       392\n",
      "\n"
     ]
    }
   ],
   "source": [
    "# Training accuracy\n",
    "bow_logit_train_accuracy = accuracy_score(y_train, bow_logit_prediction_train)\n",
    "# Testing accuracy\n",
    "bow_logit_test_accuracy = accuracy_score(y_test, bow_logit_prediction_test)\n",
    "\n",
    "bow_logit_train_precision = precision_score(y_train, bow_logit_prediction_train)\n",
    "bow_logit_test_precision = precision_score(y_test, bow_logit_prediction_test)\n",
    "\n",
    "bow_logit_train_recall = recall_score(y_train, bow_logit_prediction_train)\n",
    "bow_logit_test_recall = recall_score(y_test, bow_logit_prediction_test)\n",
    "\n",
    "print(\"training accuracy is {0}\".format(round(bow_logit_train_accuracy,3)))\n",
    "print(\"test accuracy is {0}\".format(round(bow_logit_test_accuracy,3)))\n",
    "\n",
    "print(\"training precision is {0}\".format(round(bow_logit_train_precision,3)))\n",
    "print(\"test precision is {0}\".format(round(bow_logit_test_precision,3)))\n",
    "\n",
    "print(classification_report(y_test, bow_logit_prediction_test))"
   ]
  },
  {
   "cell_type": "code",
   "execution_count": 205,
   "id": "b8dc8e2b",
   "metadata": {},
   "outputs": [],
   "source": [
    "#################################################\n",
    "#\n",
    "# Using tfidf\n",
    "#################################################\n",
    "\n",
    "# Initialize classifier, fit, and predict\n",
    "logit_classifier_tfidf = LogisticRegression()\n",
    "logit_classifier_tfidf.fit(train_bow_ary, np.array(y_train).ravel())\n",
    "tfidf_logit_prediction_train = logit_classifier_tfidf.predict(train_tfidf)\n",
    "tfidf_logit_prediction_test = logit_classifier_tfidf.predict(test_tfidf)\n",
    "\n"
   ]
  },
  {
   "cell_type": "code",
   "execution_count": 222,
   "id": "addf9612",
   "metadata": {},
   "outputs": [
    {
     "name": "stdout",
     "output_type": "stream",
     "text": [
      "training accuracy is 0.648\n",
      "test accuracy is 0.673\n",
      "training precision is 1.0\n",
      "test precision is 1.0\n",
      "              precision    recall  f1-score   support\n",
      "\n",
      "           0       0.60      1.00      0.75       191\n",
      "           1       1.00      0.36      0.53       201\n",
      "\n",
      "    accuracy                           0.67       392\n",
      "   macro avg       0.80      0.68      0.64       392\n",
      "weighted avg       0.80      0.67      0.64       392\n",
      "\n"
     ]
    }
   ],
   "source": [
    "# Training accuracy\n",
    "tfidf_logit_train_accuracy = accuracy_score(y_train, tfidf_logit_prediction_train)\n",
    "# Testing accuracy\n",
    "tfidf_logit_test_accuracy = accuracy_score(y_test, tfidf_logit_prediction_test)\n",
    "\n",
    "tfidf_logit_train_precision = precision_score(y_train, tfidf_logit_prediction_train)\n",
    "tfidf_logit_test_precision = precision_score(y_test, tfidf_logit_prediction_test)\n",
    "\n",
    "tfidf_logit_train_recall = recall_score(y_train, tfidf_logit_prediction_train)\n",
    "tfidf_logit_test_recall = recall_score(y_test, tfidf_logit_prediction_test)\n",
    "\n",
    "print(\"training accuracy is {0}\".format(round(tfidf_logit_train_accuracy,3)))\n",
    "print(\"test accuracy is {0}\".format(round(tfidf_logit_test_accuracy,3)))\n",
    "\n",
    "print(\"training precision is {0}\".format(round(tfidf_logit_train_precision,3)))\n",
    "print(\"test precision is {0}\".format(round(tfidf_logit_test_precision,3)))\n",
    "\n",
    "print(classification_report(y_test, tfidf_logit_prediction_test))"
   ]
  },
  {
   "cell_type": "markdown",
   "id": "208e2c63",
   "metadata": {},
   "source": [
    "### 7c. Support Vector Machines"
   ]
  },
  {
   "cell_type": "code",
   "execution_count": 211,
   "id": "7f646182",
   "metadata": {},
   "outputs": [],
   "source": [
    "#################################################\n",
    "#\n",
    "# Using bag of words\n",
    "#################################################\n",
    "\n",
    "# Initialize classifier, fit, and predict\n",
    "svm_classifier_bow = SVC(kernel='rbf', random_state=1234)\n",
    "svm_classifier_bow.fit(train_bow_ary, np.array(y_train).ravel())\n",
    "bow_svm_prediction_train = svm_classifier_bow.predict(train_bow_ary)\n",
    "bow_svm_prediction_test = svm_classifier_bow.predict(test_bow_ary)\n",
    "\n"
   ]
  },
  {
   "cell_type": "code",
   "execution_count": 224,
   "id": "652d998d",
   "metadata": {},
   "outputs": [
    {
     "name": "stdout",
     "output_type": "stream",
     "text": [
      "training accuracy is 0.969\n",
      "test accuracy is 0.926\n",
      "training precision is 0.992\n",
      "test precision is 0.943\n",
      "              precision    recall  f1-score   support\n",
      "\n",
      "           0       0.91      0.94      0.93       191\n",
      "           1       0.94      0.91      0.93       201\n",
      "\n",
      "    accuracy                           0.93       392\n",
      "   macro avg       0.93      0.93      0.93       392\n",
      "weighted avg       0.93      0.93      0.93       392\n",
      "\n"
     ]
    }
   ],
   "source": [
    "# Training accuracy\n",
    "bow_svm_train_accuracy = accuracy_score(y_train, bow_svm_prediction_train)\n",
    "# Testing accuracy\n",
    "bow_svm_test_accuracy = accuracy_score(y_test, bow_svm_prediction_test)\n",
    "\n",
    "bow_svm_train_precision = precision_score(y_train, bow_svm_prediction_train)\n",
    "bow_svm_test_precision = precision_score(y_test, bow_svm_prediction_test)\n",
    "\n",
    "bow_svm_train_recall = recall_score(y_train, bow_svm_prediction_train)\n",
    "bow_svm_test_recall = recall_score(y_test, bow_svm_prediction_test)\n",
    "\n",
    "print(\"training accuracy is {0}\".format(round(bow_svm_train_accuracy,3)))\n",
    "print(\"test accuracy is {0}\".format(round(bow_svm_test_accuracy,3)))\n",
    "\n",
    "print(\"training precision is {0}\".format(round(bow_svm_train_precision,3)))\n",
    "print(\"test precision is {0}\".format(round(bow_svm_test_precision,3)))\n",
    "\n",
    "print(classification_report(y_test, bow_svm_prediction_test))"
   ]
  },
  {
   "cell_type": "code",
   "execution_count": 217,
   "id": "ce6a1232",
   "metadata": {},
   "outputs": [],
   "source": [
    "#################################################\n",
    "#\n",
    "# Using tfidf\n",
    "#################################################\n",
    "\n",
    "# Initialize classifier, fit, and predict\n",
    "svm_classifier_tfidf = SVC()\n",
    "svm_classifier_tfidf.fit(train_tfidf, np.array(y_train).ravel())\n",
    "tfidf_svm_prediction_train = svm_classifier_tfidf.predict(train_tfidf)\n",
    "tfidf_svm_prediction_test = svm_classifier_tfidf.predict(test_tfidf)\n",
    "\n"
   ]
  },
  {
   "cell_type": "code",
   "execution_count": 225,
   "id": "dbf150f7",
   "metadata": {},
   "outputs": [
    {
     "name": "stdout",
     "output_type": "stream",
     "text": [
      "training accuracy is 0.997\n",
      "test accuracy is 0.936\n",
      "training precision is 0.995\n",
      "test precision is 0.936\n",
      "              precision    recall  f1-score   support\n",
      "\n",
      "           0       0.94      0.93      0.93       191\n",
      "           1       0.94      0.94      0.94       201\n",
      "\n",
      "    accuracy                           0.94       392\n",
      "   macro avg       0.94      0.94      0.94       392\n",
      "weighted avg       0.94      0.94      0.94       392\n",
      "\n"
     ]
    }
   ],
   "source": [
    "# Training accuracy\n",
    "tfidf_svm_train_accuracy = accuracy_score(y_train, tfidf_svm_prediction_train)\n",
    "# Testing accuracy\n",
    "tfidf_svm_test_accuracy = accuracy_score(y_test, tfidf_svm_prediction_test)\n",
    "\n",
    "tfidf_svm_train_precision = precision_score(y_train, tfidf_svm_prediction_train)\n",
    "tfidf_svm_test_precision = precision_score(y_test, tfidf_svm_prediction_test)\n",
    "\n",
    "tfidf_svm_train_recall = recall_score(y_train, tfidf_svm_prediction_train)\n",
    "tfidf_svm_test_recall = recall_score(y_test, tfidf_svm_prediction_test)\n",
    "\n",
    "print(\"training accuracy is {0}\".format(round(tfidf_svm_train_accuracy,3)))\n",
    "print(\"test accuracy is {0}\".format(round(tfidf_svm_test_accuracy,3)))\n",
    "\n",
    "print(\"training precision is {0}\".format(round(tfidf_svm_train_precision,3)))\n",
    "print(\"test precision is {0}\".format(round(tfidf_svm_test_precision,3)))\n",
    "\n",
    "print(classification_report(y_test, tfidf_svm_prediction_test))"
   ]
  },
  {
   "cell_type": "markdown",
   "id": "e6b60217",
   "metadata": {},
   "source": [
    "## 8. Comparing results"
   ]
  },
  {
   "cell_type": "code",
   "execution_count": 241,
   "id": "4f51c282",
   "metadata": {},
   "outputs": [],
   "source": [
    "compare_results_training = pd.DataFrame({\"precision\":[bow_nb_train_precision, tfidf_nb_train_precision,\n",
    "                            bow_logit_train_precision, tfidf_logit_train_precision,\n",
    "                            bow_svm_train_precision, tfidf_svm_train_precision],\n",
    "                  \"recall\":[bow_nb_train_recall, tfidf_nb_train_recall,\n",
    "                            bow_logit_train_recall, tfidf_logit_train_recall,\n",
    "                            bow_svm_train_recall, tfidf_svm_train_recall],\n",
    "                  \"label\": [\"NB BOW\",\"NB TF_IDF\",\"Logit BOW\",\"Logit TF_IDF\",\"SVM BOW\",\"SVM TF_IDF\"]})"
   ]
  },
  {
   "cell_type": "code",
   "execution_count": 237,
   "id": "1c793613",
   "metadata": {},
   "outputs": [],
   "source": [
    "compare_results_test = pd.DataFrame({\"precision\":[bow_nb_test_precision, tfidf_nb_test_precision,\n",
    "                            bow_logit_test_precision, tfidf_logit_test_precision,\n",
    "                            bow_svm_test_precision, tfidf_svm_test_precision],\n",
    "                  \"recall\":[bow_nb_test_recall, tfidf_nb_test_recall,\n",
    "                            bow_logit_test_recall, tfidf_logit_test_recall,\n",
    "                            bow_svm_test_recall, tfidf_svm_test_recall],\n",
    "                  \"label\": [\"NB BOW\",\"NB TF_IDF\",\"Logit BOW\",\"Logit TF_IDF\",\"SVM BOW\",\"SVM TF_IDF\"]})"
   ]
  },
  {
   "cell_type": "code",
   "execution_count": 248,
   "id": "7e30805b",
   "metadata": {},
   "outputs": [
    {
     "data": {
      "image/png": "[encoded data removed]",
      "text/plain": [
       "<Figure size 640x480 with 1 Axes>"
      ]
     },
     "metadata": {},
     "output_type": "display_data"
    }
   ],
   "source": [
    "plt.figure()\n",
    "plt.scatter(x = compare_results_training['precision'],y = compare_results_training['recall'])\n",
    "plt.xlabel(\"Precision\")\n",
    "plt.ylabel(\"Recall\")\n",
    "for i in range(compare_results_training.shape[0]):\n",
    "    plt.annotate(compare_results_training.loc[i,'label'],(compare_results_training.loc[i,'precision'],compare_results_training.loc[i,'recall']), textcoords=\"offset points\", xytext=(0,5), ha='center')\n",
    "plt.title(\"Compare training accuracy\")\n",
    "#plt.savefig(\"./Comapring_train_accuracy_spam_classifier_by_ml.png\", bbox_inches = \"tight\")\n",
    "plt.show()\n",
    "plt.close()"
   ]
  },
  {
   "cell_type": "code",
   "execution_count": 249,
   "id": "9185ae35",
   "metadata": {},
   "outputs": [
    {
     "data": {
      "text/plain": [
       "Text(0.5, 1.0, 'Compare test accuracy')"
      ]
     },
     "execution_count": 249,
     "metadata": {},
     "output_type": "execute_result"
    },
    {
     "data": {
      "image/png": "[encoded data removed]",
      "text/plain": [
       "<Figure size 640x480 with 1 Axes>"
      ]
     },
     "metadata": {},
     "output_type": "display_data"
    }
   ],
   "source": [
    "plt.figure()\n",
    "plt.scatter(x = compare_results_test['precision'],y = compare_results_test['recall'])\n",
    "plt.xlabel(\"Precision\")\n",
    "plt.ylabel(\"Recall\")\n",
    "for i in range(compare_results_test.shape[0]):\n",
    "    plt.annotate(compare_results_test.loc[i,'label'],(compare_results_test.loc[i,'precision'],compare_results_test.loc[i,'recall']), textcoords=\"offset points\", xytext=(0,5), ha='center')\n",
    "plt.title(\"Compare test accuracy\")"
   ]
  },
  {
   "cell_type": "markdown",
   "id": "3dbebb95",
   "metadata": {},
   "source": [
    "### Analysis of results\n"
   ]
  },
  {
   "cell_type": "markdown",
   "id": "6e9a6feb",
   "metadata": {},
   "source": [
    "* Logit presision is comparable to rest but recall is very poor for TFIDF. But for BOW, it is comparable. This might have to do with the fact that BOW is kind of a simple count of words which might do well with a linearity of logistic model. However it has such a low recall in TF-IDF means it is not learning the probabilistic interpretation of TF-IDF and only guessing very conservatively. Maybe playing around thresholds can improve the accuracy."
   ]
  },
  {
   "cell_type": "markdown",
   "id": "06b8428a",
   "metadata": {},
   "source": [
    "* Naive Bayes performs worse with BOW in terms of precision then TF-IDF. This might be due to Naive Bayes being probabilistic doing better with a probabilistic interpretaiton of TF-IDF compared to count in BOW"
   ]
  },
  {
   "cell_type": "markdown",
   "id": "e79e9613",
   "metadata": {},
   "source": [
    "* SVM performs equally good on both BOW and TF-IDF and has least overfitting due to inbuilt regularization. Logistic BOW also has least overfitting due to simplicity of model"
   ]
  },
  {
   "cell_type": "markdown",
   "id": "dd1e9d72",
   "metadata": {},
   "source": [
    "<b>Conclusion : </b> If the encoding paradigm of text matches that of the ML model's approach to data, the resuts are much better than when they are not supplementary."
   ]
  }
 ],
 "metadata": {
  "kernelspec": {
   "display_name": "Python 3 (ipykernel)",
   "language": "python",
   "name": "python3"
  },
  "language_info": {
   "codemirror_mode": {
    "name": "ipython",
    "version": 3
   },
   "file_extension": ".py",
   "mimetype": "text/x-python",
   "name": "python",
   "nbconvert_exporter": "python",
   "pygments_lexer": "ipython3",
   "version": "3.11.3"
  }
 },
 "nbformat": 4,
 "nbformat_minor": 5
}
