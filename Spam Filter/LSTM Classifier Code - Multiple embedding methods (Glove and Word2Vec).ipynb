{
 "cells": [
  {
   "cell_type": "markdown",
   "id": "11c9c185",
   "metadata": {},
   "source": [
    "# LSTM Code - Multiple encoding methods\n"
   ]
  },
  {
   "cell_type": "markdown",
   "id": "8c16c76f",
   "metadata": {},
   "source": [
    "\n",
    "\n",
    "<b> We will implement LSTM and in next python file we will implement LSTM with \n",
    "\n",
    "<b> 1. GLVOE \n",
    "    \n",
    "<b> 2. CBOW \n",
    "    \n",
    "<b> 3. Skipgram </b> "
   ]
  },
  {
   "cell_type": "markdown",
   "id": "a297d86e",
   "metadata": {},
   "source": [
    "The data set was taken from UCI Machine Learning Repo\n",
    "It is a public set of comments collected for spam research. It has five datasets composed by 1,956 real messages extracted from five videos that were among the 10 most viewed on the collection period."
   ]
  },
  {
   "cell_type": "markdown",
   "id": "eb66c06b",
   "metadata": {},
   "source": [
    "Alberto, T. & Lochter, J. (2015). YouTube Spam Collection [Dataset]. UCI Machine Learning Repository. https://doi.org/10.24432/C58885."
   ]
  },
  {
   "cell_type": "markdown",
   "id": "415c31bd",
   "metadata": {},
   "source": [
    "## 1. Load libraries"
   ]
  },
  {
   "cell_type": "code",
   "execution_count": 5,
   "id": "21e9467f",
   "metadata": {},
   "outputs": [],
   "source": [
    "#Import the necessary libraries\n",
    "import pandas as pd\n",
    "import numpy as np\n",
    "import scipy as sp\n",
    "import sys, re, bs4, nltk, sklearn, matplotlib\n",
    "from bs4 import BeautifulSoup\n",
    "import datasets, transformers \n",
    "from copy import deepcopy\n",
    "from sklearn.model_selection import train_test_split\n",
    "import nltk\n",
    "from nltk.tokenize import sent_tokenize, word_tokenize\n",
    "#nltk.download('punkt')\n",
    "#nltk.download('wordnet')\n",
    "#nltk.download('omw-1.4')\n",
    "#nltk.download(\"stopwords\")\n",
    "from sklearn.feature_extraction.text import CountVectorizer\n",
    "from nltk.corpus import stopwords\n",
    "from nltk.stem import WordNetLemmatizer\n",
    "#import gensim\n",
    "import matplotlib.pyplot as plt\n",
    "import torch\n",
    "from torch.utils.data import TensorDataset, DataLoader\n",
    "import torch.nn as nn\n",
    "import torch.nn.functional as F\n",
    "from sklearn.metrics import accuracy_score,precision_score,recall_score,classification_report\n",
    "from collections import defaultdict\n",
    "import torch.optim as optim"
   ]
  },
  {
   "cell_type": "markdown",
   "id": "cb9c0627",
   "metadata": {},
   "source": [
    "## 2. Get data"
   ]
  },
  {
   "cell_type": "code",
   "execution_count": 2,
   "id": "0b0a0ab3",
   "metadata": {},
   "outputs": [
    {
     "name": "stdout",
     "output_type": "stream",
     "text": [
      "Requirement already satisfied: ucimlrepo in c:\\users\\ashutosh\\appdata\\local\\programs\\python\\python311\\lib\\site-packages (0.0.7)\n",
      "Requirement already satisfied: pandas>=1.0.0 in c:\\users\\ashutosh\\appdata\\local\\programs\\python\\python311\\lib\\site-packages (from ucimlrepo) (2.2.3)\n",
      "Requirement already satisfied: certifi>=2020.12.5 in c:\\users\\ashutosh\\appdata\\local\\programs\\python\\python311\\lib\\site-packages (from ucimlrepo) (2024.2.2)\n",
      "Requirement already satisfied: numpy>=1.23.2 in c:\\users\\ashutosh\\appdata\\local\\programs\\python\\python311\\lib\\site-packages (from pandas>=1.0.0->ucimlrepo) (1.26.4)\n",
      "Requirement already satisfied: python-dateutil>=2.8.2 in c:\\users\\ashutosh\\appdata\\local\\programs\\python\\python311\\lib\\site-packages (from pandas>=1.0.0->ucimlrepo) (2.8.2)\n",
      "Requirement already satisfied: pytz>=2020.1 in c:\\users\\ashutosh\\appdata\\local\\programs\\python\\python311\\lib\\site-packages (from pandas>=1.0.0->ucimlrepo) (2023.3.post1)\n",
      "Requirement already satisfied: tzdata>=2022.7 in c:\\users\\ashutosh\\appdata\\local\\programs\\python\\python311\\lib\\site-packages (from pandas>=1.0.0->ucimlrepo) (2023.3)\n",
      "Requirement already satisfied: six>=1.5 in c:\\users\\ashutosh\\appdata\\local\\programs\\python\\python311\\lib\\site-packages (from python-dateutil>=2.8.2->pandas>=1.0.0->ucimlrepo) (1.16.0)\n",
      "Note: you may need to restart the kernel to use updated packages.\n"
     ]
    },
    {
     "name": "stderr",
     "output_type": "stream",
     "text": [
      "\n",
      "[notice] A new release of pip is available: 23.1.2 -> 25.1.1\n",
      "[notice] To update, run: C:\\Users\\Ashutosh\\AppData\\Local\\Programs\\Python\\Python311\\python.exe -m pip install --upgrade pip\n"
     ]
    }
   ],
   "source": [
    "pip install ucimlrepo"
   ]
  },
  {
   "cell_type": "code",
   "execution_count": 6,
   "id": "08d895c6",
   "metadata": {},
   "outputs": [
    {
     "name": "stdout",
     "output_type": "stream",
     "text": [
      "{'uci_id': 380, 'name': 'YouTube Spam Collection', 'repository_url': 'https://archive.ics.uci.edu/dataset/380/youtube+spam+collection', 'data_url': 'https://archive.ics.uci.edu/static/public/380/data.csv', 'abstract': 'It is a public set of comments collected for spam research. It has five datasets composed by 1,956 real messages extracted from five videos that were among the 10 most viewed on the collection period.', 'area': 'Computer Science', 'tasks': ['Classification'], 'characteristics': ['Text'], 'num_instances': 1956, 'num_features': 3, 'feature_types': [], 'demographics': [], 'target_col': ['CLASS'], 'index_col': ['VIDEO', 'COMMENT_ID'], 'has_missing_values': 'no', 'missing_values_symbol': None, 'year_of_dataset_creation': 2015, 'last_updated': 'Wed Apr 03 2024', 'dataset_doi': '10.24432/C58885', 'creators': ['T.C. Alberto', 'J.V. Lochter'], 'intro_paper': None, 'additional_info': {'summary': 'The table below lists the datasets, the YouTube video ID, the amount of samples in each class and the total number of samples per dataset.\\r\\n\\r\\nDataset --- YouTube ID -- # Spam - # Ham - Total\\r\\nPsy ------- 9bZkp7q19f0 --- 175 --- 175 --- 350\\r\\nKatyPerry - CevxZvSJLk8 --- 175 --- 175 --- 350\\r\\nLMFAO ----- KQ6zr6kCPj8 --- 236 --- 202 --- 438\\r\\nEminem ---- uelHwf8o7_U --- 245 --- 203 --- 448\\r\\nShakira --- pRpeEdMmmQ0 --- 174 --- 196 --- 370\\r\\n\\r\\nNote: the chronological order of the comments were kept.\\r\\n', 'purpose': None, 'funded_by': None, 'instances_represent': None, 'recommended_data_splits': None, 'sensitive_data': None, 'preprocessing_description': None, 'variable_info': 'The collection is composed by one CSV file per dataset, where each line has the following attributes:\\r\\n\\r\\nCOMMENT_ID,AUTHOR,DATE,CONTENT,TAG\\r\\n\\r\\nWe offer one example bellow:\\r\\n\\r\\nz12oglnpoq3gjh4om04cfdlbgp2uepyytpw0k,Francisco Nora,2013-11-28T19:52:35,please like :D https://premium.easypromosapp.com/voteme/19924/616375350,1\\r\\n', 'citation': None}}\n",
      "         name     role         type demographic description units  \\\n",
      "0       VIDEO       ID  Categorical        None        None  None   \n",
      "1  COMMENT_ID       ID  Categorical        None        None  None   \n",
      "2      AUTHOR  Feature  Categorical        None        None  None   \n",
      "3        DATE  Feature  Categorical        None        None  None   \n",
      "4     CONTENT  Feature  Categorical        None        None  None   \n",
      "5       CLASS   Target       Binary        None        None  None   \n",
      "\n",
      "  missing_values  \n",
      "0             no  \n",
      "1             no  \n",
      "2             no  \n",
      "3             no  \n",
      "4             no  \n",
      "5             no  \n"
     ]
    }
   ],
   "source": [
    "from ucimlrepo import fetch_ucirepo \n",
    "  \n",
    "# fetch dataset \n",
    "youtube_spam_collection = fetch_ucirepo(id=380) \n",
    "  \n",
    "# data (as pandas dataframes) \n",
    "X = youtube_spam_collection.data.features \n",
    "y = youtube_spam_collection.data.targets \n",
    "  \n",
    "# metadata \n",
    "print(youtube_spam_collection.metadata) \n",
    "  \n",
    "# variable information \n",
    "print(youtube_spam_collection.variables) \n"
   ]
  },
  {
   "cell_type": "markdown",
   "id": "cb808ebb",
   "metadata": {},
   "source": [
    "## 3. Methodology"
   ]
  },
  {
   "cell_type": "markdown",
   "id": "35a124f9",
   "metadata": {},
   "source": [
    "We will prepeocess the data, tokenize, clean it (stemming, lemmization), encode it (bag of words, tf-idf), then use multiple methodes to classify it and compare resutls"
   ]
  },
  {
   "cell_type": "markdown",
   "id": "c0e4e1b7",
   "metadata": {},
   "source": [
    "    ```Input data\n",
    "    pre-processing\n",
    "        A --> Toeknization\n",
    "        B --> Stemming/Lemmization\n",
    "        C --> Encoding (Bag of Words, TF-IDF)\n",
    "    Create Embeddings\n",
    "        D --> GLOVE\n",
    "        E --> Word2Vec- CBOW\n",
    "        F --> Word2Vec - Skipgram\n",
    "    DL Model\n",
    "        G. --> Define model\n",
    "        H. --> Train model\n",
    "        I. --> Evaluate"
   ]
  },
  {
   "cell_type": "code",
   "execution_count": 7,
   "id": "ba87e28b",
   "metadata": {},
   "outputs": [
    {
     "name": "stdout",
     "output_type": "stream",
     "text": [
      "Huh, anyway check out this you[tube] channel: kobyoshi02\n",
      "Hey guys check out my new channel and our first vid THIS IS US THE  MONKEYS!!! I'm the monkey in the white shirt,please leave a like comment  and please subscribe!!!!\n",
      "just for test I have to say murdev.com\n",
      "me shaking my sexy ass on my channel enjoy ^_^ ﻿\n",
      "watch?v=vtaRGgvGtWQ   Check this out .﻿\n"
     ]
    }
   ],
   "source": [
    "for i in X['CONTENT'][0:5]:\n",
    "    print(i)"
   ]
  },
  {
   "cell_type": "markdown",
   "id": "6b10efa0",
   "metadata": {},
   "source": [
    "## 4. Data Cleaning"
   ]
  },
  {
   "cell_type": "code",
   "execution_count": 8,
   "id": "d9516592",
   "metadata": {},
   "outputs": [
    {
     "name": "stderr",
     "output_type": "stream",
     "text": [
      "C:\\Users\\Ashutosh\\AppData\\Local\\Temp\\ipykernel_12948\\787672344.py:10: MarkupResemblesLocatorWarning: The input looks more like a filename than markup. You may want to open this file and pass the filehandle into Beautiful Soup.\n",
      "  X_all = [BeautifulSoup(i, \"html.parser\").get_text() for i in X_all]\n"
     ]
    }
   ],
   "source": [
    "# We want to remove URL as comment as it will confuse the model but we will keep a flag that a url watch present here, \n",
    "#as it might be a strong indicator of a spam comment\n",
    "\n",
    "X_all = [re.sub(r'http\\S+|www\\S+|https\\S+', 'url', i, flags=re.MULTILINE) for i in X['CONTENT']]\n",
    "\n",
    "# Similarly for watch, we will remove complext suffix but keep the word watch as an input to out model\n",
    "X_all = [re.sub(r'watch\\?v=\\S+', 'watch', i, flags=re.MULTILINE) for i in X_all]\n",
    "\n",
    "# Remove any html tags by mistake\n",
    "X_all = [BeautifulSoup(i, \"html.parser\").get_text() for i in X_all]\n",
    "\n",
    "# for any emoji or emoticon replace it with the word \"emoji\" as it can be a useful feature\n",
    "X_all = [re.sub(\"[:;][)|(DP]\",\"emoji\",i) for i in X_all]\n",
    "\n",
    "# any number does not look like year should be replaced with an identifier number\n",
    "\n",
    "def not_number(string):\n",
    "    string = re.sub(\",\",\"\",string)\n",
    "    try:\n",
    "        float(string)\n",
    "        return False\n",
    "    except ValueError:\n",
    "        return True\n",
    "    \n",
    "def check_range(string_no):\n",
    "    string_no = re.sub(\",\",\"\",string_no)\n",
    "    if(float(string_no) <= 2100.0 and float(string_no) >= 1800.0):\n",
    "        return(True)\n",
    "    else:\n",
    "        return(False)\n",
    "\n",
    "def remove_suprious_num(snt):\n",
    "    token_words = word_tokenize(snt)\n",
    "    changed_words = [i if not_number(i) else \"year\" if  check_range(i) else \"large number\" for i in token_words]\n",
    "    return(\" \".join(changed_words))\n",
    "\n",
    "X_all = [remove_suprious_num(i) for i in X_all]\n",
    "\n",
    "# convert all to lower case\n",
    "X_all = [i.casefold() for i in X_all]\n",
    "\n",
    "# romve extra white space \n",
    "X_all = [re.sub(r'[^\\w\\s]', '', i) for i in X_all]\n",
    "\n",
    "X_all = [re.sub(r'\\s+', ' ', i).strip() for i in X_all]\n",
    "\n"
   ]
  },
  {
   "cell_type": "markdown",
   "id": "004f5559",
   "metadata": {},
   "source": [
    "## 4. Split into test and train data"
   ]
  },
  {
   "cell_type": "code",
   "execution_count": 9,
   "id": "7111e77c",
   "metadata": {},
   "outputs": [
    {
     "data": {
      "text/plain": [
       "CLASS\n",
       "1        1005\n",
       "0         951\n",
       "Name: count, dtype: int64"
      ]
     },
     "execution_count": 9,
     "metadata": {},
     "output_type": "execute_result"
    }
   ],
   "source": [
    "# Let us check the distirbution of labels, if it is highly imbalanced\n",
    "y.value_counts()"
   ]
  },
  {
   "cell_type": "markdown",
   "id": "d491828d",
   "metadata": {},
   "source": [
    "The labels seem to be very well balanced, hence we need not worry about sampling techniques (oversampling/undersampling/smote,etc)."
   ]
  },
  {
   "cell_type": "code",
   "execution_count": 10,
   "id": "3b8d1d47",
   "metadata": {},
   "outputs": [],
   "source": [
    "# we will use y to stratify so the distribution of labels is simialr in training and test data\n",
    "X_train, X_test, y_train, y_test = train_test_split(X_all, y, test_size=0.2, random_state=42, stratify=y)"
   ]
  },
  {
   "cell_type": "markdown",
   "id": "88f277e8",
   "metadata": {},
   "source": [
    "Let us check the distribution in training and test data"
   ]
  },
  {
   "cell_type": "code",
   "execution_count": 11,
   "id": "3a929767",
   "metadata": {},
   "outputs": [
    {
     "name": "stdout",
     "output_type": "stream",
     "text": [
      "CLASS\n",
      "1        804\n",
      "0        760\n",
      "Name: count, dtype: int64\n",
      "CLASS\n",
      "1        201\n",
      "0        191\n",
      "Name: count, dtype: int64\n"
     ]
    }
   ],
   "source": [
    "print(y_train.value_counts())\n",
    "print(y_test.value_counts())"
   ]
  },
  {
   "cell_type": "markdown",
   "id": "4e816a8f",
   "metadata": {},
   "source": [
    "## 5. Pre-processing and tokenization"
   ]
  },
  {
   "cell_type": "markdown",
   "id": "7a8f0ad2",
   "metadata": {},
   "source": [
    "### 5a. Remove stop words"
   ]
  },
  {
   "cell_type": "code",
   "execution_count": 12,
   "id": "96309c3a",
   "metadata": {},
   "outputs": [],
   "source": [
    "#print(stopwords)\n",
    "stop_words = set(stopwords.words(\"english\"))"
   ]
  },
  {
   "cell_type": "code",
   "execution_count": 13,
   "id": "87714fc0",
   "metadata": {},
   "outputs": [],
   "source": [
    "def remove_stop_words(sent):\n",
    "    token_words = word_tokenize(sent)\n",
    "    clean_token_words = [i for i in token_words if i not in stop_words]\n",
    "    return(\" \".join(clean_token_words))"
   ]
  },
  {
   "cell_type": "code",
   "execution_count": 14,
   "id": "a3e719ef",
   "metadata": {},
   "outputs": [
    {
     "data": {
      "text/plain": [
       "['video large number views large number million people earth',\n",
       " 'head like large number years ago time flies',\n",
       " 'large number billions year',\n",
       " 'wtf subscribe channel thanx emoji',\n",
       " 'omg',\n",
       " 'please become first subscriber thank',\n",
       " 'everyone come check new gta large number gameplay right watch',\n",
       " 'remember back popular everyone school shuffling crazy',\n",
       " 'url please halp project',\n",
       " 'haha funny see salt westerners top views youtube goes video dont even understand keep salt']"
      ]
     },
     "execution_count": 14,
     "metadata": {},
     "output_type": "execute_result"
    }
   ],
   "source": [
    "X_train = [remove_stop_words(i) for i in X_train]\n",
    "X_test = [remove_stop_words(i) for i in X_test]\n",
    "X_train[0:10]"
   ]
  },
  {
   "cell_type": "markdown",
   "id": "57e988ab",
   "metadata": {},
   "source": [
    "### 5b. Normalization - Lemmization"
   ]
  },
  {
   "cell_type": "code",
   "execution_count": 15,
   "id": "5b5e6492",
   "metadata": {},
   "outputs": [
    {
     "data": {
      "text/plain": [
       "['video large number view large number million people earth',\n",
       " 'head like large number year ago time fly',\n",
       " 'large number billion year',\n",
       " 'wtf subscribe channel thanx emoji',\n",
       " 'omg',\n",
       " 'please become first subscriber thank',\n",
       " 'everyone come check new gta large number gameplay right watch',\n",
       " 'remember back popular everyone school shuffling crazy',\n",
       " 'url please halp project',\n",
       " 'haha funny see salt westerner top view youtube go video dont even understand keep salt']"
      ]
     },
     "execution_count": 15,
     "metadata": {},
     "output_type": "execute_result"
    }
   ],
   "source": [
    "def normalize_data(sent,lemmitizer):\n",
    "    token_words = word_tokenize(sent)\n",
    "    clean_tokens = [lemmitizer.lemmatize(i) for i in token_words]\n",
    "    return(\" \".join(clean_tokens)) \n",
    "\n",
    "lemmitizer = WordNetLemmatizer()\n",
    "X_train = [normalize_data(i,lemmitizer) for i in X_train]\n",
    "X_test = [normalize_data(i,lemmitizer) for i in X_test]\n",
    "X_train[0:10]"
   ]
  },
  {
   "cell_type": "markdown",
   "id": "b31db3f9",
   "metadata": {},
   "source": [
    "# Embedding - Glove"
   ]
  },
  {
   "cell_type": "markdown",
   "id": "c19d586e",
   "metadata": {},
   "source": [
    "<b> GloVe is an unsupervised learning algorithm for obtaining vector representations for words. Training is performed on aggregated global word-word co-occurrence statistics from a corpus, and the resulting representations showcase interesting linear substructures of the word vector space.We will use a pre-trained golve model on wikipedia data. We will load it and use it to create embeddings for our corpus.\\\n",
    "\\\n",
    "To download the pre-trained model and use golve refer to - https://nlp.stanford.edu/projects/glove/"
   ]
  },
  {
   "cell_type": "code",
   "execution_count": 16,
   "id": "64c176ad",
   "metadata": {},
   "outputs": [],
   "source": [
    "def load_glove_model(glove_dict):\n",
    "    model = {}\n",
    "    with open(glove_dict, 'r', encoding='utf-8') as f:\n",
    "        for line in f:\n",
    "            values = line.split()\n",
    "            word = values[0]\n",
    "            word = lemmitizer.lemmatize(word)\n",
    "            vector = np.asarray(values[1:], dtype='float32')\n",
    "            model[word] = vector\n",
    "    return model\n",
    "\n",
    "glove_model = load_glove_model('./glove.6B.50d.txt')  # Example for 50-dimensional vectors"
   ]
  },
  {
   "cell_type": "code",
   "execution_count": 17,
   "id": "6fdd117f",
   "metadata": {},
   "outputs": [],
   "source": [
    "def get_glove_embedding(sent):\n",
    "    emb_vec = []\n",
    "    tokens = word_tokenize(sent)\n",
    "    for token in tokens:\n",
    "        temp_vec = glove_model.get(token, np.zeros(50))\n",
    "        emb_vec.append(temp_vec)\n",
    "    return(emb_vec)\n",
    "    "
   ]
  },
  {
   "cell_type": "code",
   "execution_count": 18,
   "id": "4e9511ce",
   "metadata": {},
   "outputs": [],
   "source": [
    "X_train_glove_embed = [get_glove_embedding(i) for i in X_train]\n",
    "X_test_glove_embed = [get_glove_embedding(i) for i in X_test]"
   ]
  },
  {
   "cell_type": "code",
   "execution_count": 19,
   "id": "16adfdb2",
   "metadata": {},
   "outputs": [],
   "source": [
    "def pad_sentence_vectors(vectors_list, max_len_sentence, embedding_size):\n",
    "    padded_vectors = []\n",
    "    for vecs in vectors_list:\n",
    "        if len(vecs) < max_len_sentence:\n",
    "            pad_length = max_len_sentence - len(vecs)\n",
    "            vecs.extend([np.zeros(embedding_size)] * pad_length)\n",
    "        else:\n",
    "            vecs = vecs[:max_len_sentence]\n",
    "        padded_vectors.append(vecs)\n",
    "    return np.array(padded_vectors)\n"
   ]
  },
  {
   "cell_type": "code",
   "execution_count": 20,
   "id": "a421acac",
   "metadata": {},
   "outputs": [
    {
     "name": "stdout",
     "output_type": "stream",
     "text": [
      "(1564, 25, 50)\n"
     ]
    }
   ],
   "source": [
    "padded_embeddings_X_train_glove = pad_sentence_vectors(X_train_glove_embed,25,50)\n",
    "padded_embeddings_X_test_glove = pad_sentence_vectors(X_test_glove_embed,25,50)\n",
    "print(padded_embeddings_X_train_glove.shape)"
   ]
  },
  {
   "cell_type": "markdown",
   "id": "2362140c",
   "metadata": {},
   "source": [
    "## Create training tensor dataset  for GLOVE"
   ]
  },
  {
   "cell_type": "code",
   "execution_count": 21,
   "id": "579d0e62",
   "metadata": {},
   "outputs": [
    {
     "name": "stdout",
     "output_type": "stream",
     "text": [
      "torch.Size([1564, 25, 50])\n",
      "torch.Size([1564, 50, 25])\n",
      "torch.Size([392, 25, 50])\n",
      "torch.Size([392, 50, 25])\n"
     ]
    }
   ],
   "source": [
    "X_tensor_train = torch.tensor(padded_embeddings_X_train_glove, dtype=torch.float32)    \n",
    "print(X_tensor_train.shape)\n",
    "\n",
    "#The expected sequence of nn.Conv1d is (batch_size, channels, sequence_length)\n",
    "# hence we change the shape (1564, 15, 50) to (1564, 50, 15)\n",
    "X_tensor_train = X_tensor_train.permute(0, 2, 1)\n",
    "print(X_tensor_train.shape)\n",
    "\n",
    "y_tensor_train = torch.tensor(np.array(y_train), dtype=torch.long)\n",
    "\n",
    "dataset_train = TensorDataset(X_tensor_train, y_tensor_train)\n",
    "dataloader_train = DataLoader(dataset_train, batch_size=10, shuffle=False,drop_last=False)\n",
    "\n",
    "\n",
    "X_tensor_test = torch.tensor(padded_embeddings_X_test_glove, dtype=torch.float32)    \n",
    "print(X_tensor_test.shape)\n",
    "\n",
    "#The expected sequence of nn.Conv1d is (batch_size, channels, sequence_length)\n",
    "# hence we change the shape (1564, 15, 50) to (1564, 50, 15)\n",
    "X_tensor_test = X_tensor_test.permute(0, 2, 1)\n",
    "print(X_tensor_test.shape)\n",
    "\n",
    "y_tensor_test = torch.tensor(np.array(y_test), dtype=torch.long)\n",
    "\n",
    "dataset_test = TensorDataset(X_tensor_test, y_tensor_test)\n",
    "dataloader_test = DataLoader(dataset_test, batch_size=10, shuffle=False,drop_last=False)"
   ]
  },
  {
   "cell_type": "markdown",
   "id": "f7a9c380",
   "metadata": {},
   "source": [
    "# Embedding - CBOW"
   ]
  },
  {
   "cell_type": "markdown",
   "id": "8dbec71e",
   "metadata": {},
   "source": [
    "CBOW or Continous Bag of Words is word embedding technique. It creates embedding by trying to predict the word by using surrounding words. Surrounding is defined by context window."
   ]
  },
  {
   "cell_type": "code",
   "execution_count": 22,
   "id": "e4b762cb",
   "metadata": {},
   "outputs": [
    {
     "data": {
      "text/plain": [
       "'video large number view large number million people earth'"
      ]
     },
     "execution_count": 22,
     "metadata": {},
     "output_type": "execute_result"
    }
   ],
   "source": [
    "X_train[0]"
   ]
  },
  {
   "cell_type": "code",
   "execution_count": 23,
   "id": "14271f3c",
   "metadata": {},
   "outputs": [],
   "source": [
    "# Let us tokenize words\n",
    "train_corpus = [word_tokenize(i) for i in X_train]\n",
    "test_corpus = [word_tokenize(i) for i in X_test]"
   ]
  },
  {
   "cell_type": "markdown",
   "id": "7040b746",
   "metadata": {},
   "source": [
    "First we need to create a dictionary with frequency. We will use it to filter for words with atleast >= 5 frequency and for rare word we change in UNK"
   ]
  },
  {
   "cell_type": "code",
   "execution_count": 24,
   "id": "403b3c49",
   "metadata": {},
   "outputs": [],
   "source": [
    "all_words = {}\n",
    "for i in train_corpus:\n",
    "    for j in i:\n",
    "        if j not in all_words:\n",
    "            all_words[j] = 1\n",
    "        else:\n",
    "            all_words[j] += 1"
   ]
  },
  {
   "cell_type": "code",
   "execution_count": 25,
   "id": "e5823023",
   "metadata": {},
   "outputs": [],
   "source": [
    "# Filter the dict \n",
    "filtered_all_words = {i:j for i,j in all_words.items() if j >= 3 }"
   ]
  },
  {
   "cell_type": "markdown",
   "id": "b0e59f51",
   "metadata": {},
   "source": [
    "<b> Let us create 2 indexes, word to index and index to words </b>"
   ]
  },
  {
   "cell_type": "code",
   "execution_count": 26,
   "id": "b1cf1a1e",
   "metadata": {},
   "outputs": [],
   "source": [
    "word_to_idx = {\n",
    "    '<PAD>': 0,\n",
    "    '<UNK>': 1}\n",
    "for i in filtered_all_words.keys():\n",
    "    if (i not in word_to_idx):\n",
    "        word_to_idx[i] = len(word_to_idx)"
   ]
  },
  {
   "cell_type": "code",
   "execution_count": 27,
   "id": "2f8e9cee",
   "metadata": {},
   "outputs": [],
   "source": [
    "inx_to_word = {}\n",
    "for i,j in word_to_idx.items():\n",
    "    inx_to_word[j] = i"
   ]
  },
  {
   "cell_type": "markdown",
   "id": "d4a82cd6",
   "metadata": {},
   "source": [
    "<b> Let us pad both train and test corpus to similar lengths </b>"
   ]
  },
  {
   "cell_type": "code",
   "execution_count": 28,
   "id": "05efd6f6",
   "metadata": {},
   "outputs": [
    {
     "data": {
      "text/plain": [
       "(array([1.237e+03, 1.630e+02, 6.700e+01, 4.600e+01, 3.000e+01, 1.700e+01,\n",
       "        1.000e+00, 1.000e+00, 1.000e+00, 1.000e+00]),\n",
       " array([  0. ,  10.7,  21.4,  32.1,  42.8,  53.5,  64.2,  74.9,  85.6,\n",
       "         96.3, 107. ]),\n",
       " <BarContainer object of 10 artists>)"
      ]
     },
     "execution_count": 28,
     "metadata": {},
     "output_type": "execute_result"
    },
    {
     "data": {
      "image/png": "[encoded data removed]",
      "text/plain": [
       "<Figure size 640x480 with 1 Axes>"
      ]
     },
     "metadata": {},
     "output_type": "display_data"
    }
   ],
   "source": [
    "len_of_words = []\n",
    "for i in train_corpus:\n",
    "    #print(i)\n",
    "    #print(len(i))\n",
    "    len_of_words.append(len(i))\n",
    "plt.hist(len_of_words)"
   ]
  },
  {
   "cell_type": "code",
   "execution_count": 29,
   "id": "b840fb45",
   "metadata": {},
   "outputs": [],
   "source": [
    "def do_padding (wrd_crps, pad_length):\n",
    "    padded_corpus = []\n",
    "    for i in wrd_crps:\n",
    "        if len(i) >= pad_length:\n",
    "            sent = i[0:pad_length]\n",
    "        else:\n",
    "            sent = i + (pad_length-len(i)) * ['<PAD>']\n",
    "        padded_corpus.append(sent)\n",
    "    return(padded_corpus)\n"
   ]
  },
  {
   "cell_type": "code",
   "execution_count": 30,
   "id": "bd89b6ba",
   "metadata": {},
   "outputs": [],
   "source": [
    "padded_train_corpus = do_padding(train_corpus,12)\n",
    "padded_test_corpus = do_padding(test_corpus,12)"
   ]
  },
  {
   "cell_type": "markdown",
   "id": "ff549b1c",
   "metadata": {},
   "source": [
    "<b> Change the list of words corpus to list of indexes"
   ]
  },
  {
   "cell_type": "code",
   "execution_count": 31,
   "id": "376fb6ef",
   "metadata": {},
   "outputs": [],
   "source": [
    "def change_to_index(wrd_crps,word_dict):\n",
    "    ret_list = []\n",
    "    for i in wrd_crps:\n",
    "        sent = [word_dict[k] if k in word_dict else 1 for k in i]\n",
    "        ret_list.append(sent)\n",
    "    return(ret_list)"
   ]
  },
  {
   "cell_type": "markdown",
   "id": "1d69edb0",
   "metadata": {},
   "source": [
    "## Let us create a dataset of contex and target words"
   ]
  },
  {
   "cell_type": "code",
   "execution_count": 32,
   "id": "a360ef66",
   "metadata": {},
   "outputs": [],
   "source": [
    "corpus = []\n",
    "target = []\n",
    "for i in  train_corpus:   \n",
    "    sent = []\n",
    "    for j,k in enumerate(i):       \n",
    "        if j > 2 and j < len(i) - 2:\n",
    "            context = ([i[j-2],i[j-1],i[j+1],i[j+2]])\n",
    "            target.append(i[j])\n",
    "            corpus.append(context)"
   ]
  },
  {
   "cell_type": "code",
   "execution_count": 33,
   "id": "76e44c03",
   "metadata": {},
   "outputs": [
    {
     "name": "stdout",
     "output_type": "stream",
     "text": [
      "7841\n",
      "7841\n"
     ]
    }
   ],
   "source": [
    "print(len(corpus))\n",
    "print(len(target))"
   ]
  },
  {
   "cell_type": "code",
   "execution_count": null,
   "id": "a74cd812",
   "metadata": {},
   "outputs": [],
   "source": []
  },
  {
   "cell_type": "code",
   "execution_count": 34,
   "id": "cdb993d1",
   "metadata": {},
   "outputs": [],
   "source": [
    "encoded_target = []\n",
    "for i in target:\n",
    "    if(i in word_to_idx):\n",
    "        enc = word_to_idx[i]\n",
    "    else:\n",
    "        enc = 1\n",
    "    encoded_target.append(enc)"
   ]
  },
  {
   "cell_type": "code",
   "execution_count": 35,
   "id": "4fc46b28",
   "metadata": {},
   "outputs": [],
   "source": [
    "encoded_context = []\n",
    "for i in corpus:\n",
    "    encoded_neigh = []\n",
    "    for j in i:\n",
    "        if(j in word_to_idx):\n",
    "            enc = word_to_idx[j]\n",
    "        else:\n",
    "            enc = 1\n",
    "        encoded_neigh.append(enc)\n",
    "    encoded_context.append(encoded_neigh)"
   ]
  },
  {
   "cell_type": "code",
   "execution_count": 36,
   "id": "81783cfc",
   "metadata": {},
   "outputs": [
    {
     "name": "stdout",
     "output_type": "stream",
     "text": [
      "7841\n",
      "7841\n"
     ]
    }
   ],
   "source": [
    "print(len(encoded_context))\n",
    "print(len(encoded_target))"
   ]
  },
  {
   "cell_type": "code",
   "execution_count": null,
   "id": "f05d8a88",
   "metadata": {},
   "outputs": [],
   "source": []
  },
  {
   "cell_type": "markdown",
   "id": "f532d153",
   "metadata": {},
   "source": [
    "## Let us create data for CBOW encoding"
   ]
  },
  {
   "cell_type": "code",
   "execution_count": 37,
   "id": "af8d9daa",
   "metadata": {},
   "outputs": [],
   "source": [
    "X_tensor_train_cbow = torch.tensor(encoded_context, dtype=torch.long) \n",
    "y_tensor_train_cbow = torch.tensor(encoded_target, dtype=torch.long)"
   ]
  },
  {
   "cell_type": "code",
   "execution_count": 38,
   "id": "27bb51bd",
   "metadata": {},
   "outputs": [],
   "source": [
    "dataset_train_cbow = TensorDataset(X_tensor_train_cbow, y_tensor_train_cbow)\n",
    "dataloader_train_cbow = DataLoader(dataset_train_cbow, batch_size=10, shuffle=False,drop_last=False)"
   ]
  },
  {
   "cell_type": "code",
   "execution_count": 39,
   "id": "842b1f25",
   "metadata": {},
   "outputs": [],
   "source": [
    "vocab_size = len(word_to_idx)"
   ]
  },
  {
   "cell_type": "markdown",
   "id": "b0505cee",
   "metadata": {},
   "source": [
    "# CBOW Model"
   ]
  },
  {
   "cell_type": "code",
   "execution_count": 40,
   "id": "32c5eaf9",
   "metadata": {},
   "outputs": [],
   "source": [
    "class CBOW(nn.Module):\n",
    "    def __init__(self, vocab_size, embedding_dim, padding_idx):\n",
    "        super(CBOW, self).__init__()\n",
    "        self.embeddings = nn.Embedding(vocab_size, embedding_dim, padding_idx=padding_idx)\n",
    "        self.linear = nn.Linear(embedding_dim, vocab_size)\n",
    "\n",
    "    def forward(self, context_idxs):\n",
    "        #print(\"input to embed\")\n",
    "        #print(context_idxs)\n",
    "        embeds = self.embeddings(context_idxs)\n",
    "        mask = (context_idxs != self.embeddings.padding_idx).unsqueeze(-1).float()\n",
    "        masked_embeds = embeds * mask \n",
    "        lengths = mask.sum(dim=1).clamp(min=1)\n",
    "        avg_embed = masked_embeds.sum(dim=1) / lengths \n",
    "        #print(\"output of embed\")\n",
    "        #print(embeds)\n",
    "        #print(\"shape of embed output\")\n",
    "        #print(embeds.shape)\n",
    "        #avg_embed = embeds.mean(dim=1) \n",
    "        #print(\"after mean\")\n",
    "        #print(avg_embed.shape)\n",
    "        #print(\"input to linear layer\")\n",
    "        #print(avg_embed)\n",
    "        out = self.linear(avg_embed) \n",
    "        #print(\"output of linear layer\")\n",
    "        #print(out)\n",
    "        return out\n"
   ]
  },
  {
   "cell_type": "code",
   "execution_count": 41,
   "id": "7982ae82",
   "metadata": {},
   "outputs": [],
   "source": [
    "model_cbw = CBOW(vocab_size, embedding_dim = 50, padding_idx=0)\n",
    "loss_fn = nn.CrossEntropyLoss()\n",
    "optimizer = optim.Adam(model_cbw.parameters(), lr=0.01)\n"
   ]
  },
  {
   "cell_type": "code",
   "execution_count": 42,
   "id": "978a479b",
   "metadata": {
    "scrolled": true
   },
   "outputs": [
    {
     "name": "stdout",
     "output_type": "stream",
     "text": [
      "Epoch 1/20, Loss: 3661.4337\n",
      "Epoch 2/20, Loss: 2509.5882\n",
      "Epoch 3/20, Loss: 1984.5742\n",
      "Epoch 4/20, Loss: 1611.0222\n",
      "Epoch 5/20, Loss: 1347.1973\n",
      "Epoch 6/20, Loss: 1169.6983\n",
      "Epoch 7/20, Loss: 1026.4545\n",
      "Epoch 8/20, Loss: 930.8497\n",
      "Epoch 9/20, Loss: 853.7886\n",
      "Epoch 10/20, Loss: 805.2388\n",
      "Epoch 11/20, Loss: 768.7215\n",
      "Epoch 12/20, Loss: 727.9563\n",
      "Epoch 13/20, Loss: 699.3661\n",
      "Epoch 14/20, Loss: 688.0523\n",
      "Epoch 15/20, Loss: 663.6880\n",
      "Epoch 16/20, Loss: 636.5288\n",
      "Epoch 17/20, Loss: 617.4927\n",
      "Epoch 18/20, Loss: 609.0713\n",
      "Epoch 19/20, Loss: 599.1746\n",
      "Epoch 20/20, Loss: 584.3016\n"
     ]
    }
   ],
   "source": [
    "num_epochs = 20\n",
    "\n",
    "for epoch in range(num_epochs):\n",
    "    total_loss = 0\n",
    "\n",
    "    for context_batch, target_batch in dataloader_train_cbow:\n",
    "        \n",
    "        outputs = model_cbw(context_batch) \n",
    "        loss = loss_fn(outputs, target_batch)\n",
    "        optimizer.zero_grad()\n",
    "        loss.backward()\n",
    "        optimizer.step()\n",
    "        total_loss += loss.item()\n",
    "    print(f\"Epoch {epoch+1}/{num_epochs}, Loss: {total_loss:.4f}\")\n"
   ]
  },
  {
   "cell_type": "code",
   "execution_count": 40,
   "id": "626c1dc5",
   "metadata": {},
   "outputs": [],
   "source": [
    "# Check accuracy of my CBOW model"
   ]
  },
  {
   "cell_type": "code",
   "execution_count": 43,
   "id": "d575f2f6",
   "metadata": {},
   "outputs": [
    {
     "name": "stdout",
     "output_type": "stream",
     "text": [
      "Validation Accuracy: 0.8417\n"
     ]
    }
   ],
   "source": [
    "model_cbw.eval()  \n",
    "\n",
    "correct = 0\n",
    "total = 0\n",
    "\n",
    "with torch.inference_mode():  \n",
    "    for context_batch, target_batch in dataloader_train_cbow:\n",
    "        outputs = model_cbw(context_batch)     \n",
    "        predicted = torch.argmax(outputs, dim=1)  \n",
    "        correct += (predicted == target_batch).sum().item()\n",
    "        total += target_batch.size(0)\n",
    "\n",
    "accuracy = correct / total\n",
    "print(f\"Validation Accuracy: {accuracy:.4f}\")\n"
   ]
  },
  {
   "cell_type": "code",
   "execution_count": 44,
   "id": "db49b931",
   "metadata": {},
   "outputs": [
    {
     "data": {
      "text/plain": [
       "50"
      ]
     },
     "execution_count": 44,
     "metadata": {},
     "output_type": "execute_result"
    }
   ],
   "source": [
    "len(model_cbw.embeddings(torch.tensor([4])).squeeze(0).tolist())"
   ]
  },
  {
   "cell_type": "code",
   "execution_count": 45,
   "id": "c335b993",
   "metadata": {},
   "outputs": [
    {
     "data": {
      "text/plain": [
       "[0.0,\n",
       " 0.0,\n",
       " 0.0,\n",
       " 0.0,\n",
       " 0.0,\n",
       " 0.0,\n",
       " 0.0,\n",
       " 0.0,\n",
       " 0.0,\n",
       " 0.0,\n",
       " 0.0,\n",
       " 0.0,\n",
       " 0.0,\n",
       " 0.0,\n",
       " 0.0,\n",
       " 0.0,\n",
       " 0.0,\n",
       " 0.0,\n",
       " 0.0,\n",
       " 0.0,\n",
       " 0.0,\n",
       " 0.0,\n",
       " 0.0,\n",
       " 0.0,\n",
       " 0.0,\n",
       " 0.0,\n",
       " 0.0,\n",
       " 0.0,\n",
       " 0.0,\n",
       " 0.0,\n",
       " 0.0,\n",
       " 0.0,\n",
       " 0.0,\n",
       " 0.0,\n",
       " 0.0,\n",
       " 0.0,\n",
       " 0.0,\n",
       " 0.0,\n",
       " 0.0,\n",
       " 0.0,\n",
       " 0.0,\n",
       " 0.0,\n",
       " 0.0,\n",
       " 0.0,\n",
       " 0.0,\n",
       " 0.0,\n",
       " 0.0,\n",
       " 0.0,\n",
       " 0.0,\n",
       " 0.0]"
      ]
     },
     "execution_count": 45,
     "metadata": {},
     "output_type": "execute_result"
    }
   ],
   "source": [
    "(model_cbw.embeddings(torch.tensor([0])).squeeze(0).tolist())"
   ]
  },
  {
   "cell_type": "markdown",
   "id": "44ec3bb4",
   "metadata": {},
   "source": [
    "## Now let us create a corpus of embedded vectors for training and testing data\n"
   ]
  },
  {
   "cell_type": "markdown",
   "id": "626a165a",
   "metadata": {},
   "source": [
    "Created index values corpus"
   ]
  },
  {
   "cell_type": "code",
   "execution_count": 46,
   "id": "3cc2db67",
   "metadata": {},
   "outputs": [],
   "source": [
    "padded_train_corpus_encoded = []\n",
    "for i in padded_train_corpus:\n",
    "    sent = [word_to_idx[j] if j in word_to_idx else 1 for j in i]\n",
    "    padded_train_corpus_encoded.append(sent)"
   ]
  },
  {
   "cell_type": "code",
   "execution_count": 47,
   "id": "0b9e8850",
   "metadata": {},
   "outputs": [],
   "source": [
    "padded_test_corpus_encoded = []\n",
    "for i in padded_test_corpus:\n",
    "    sent = [word_to_idx[j] if j in word_to_idx else 1 for j in i]\n",
    "    padded_test_corpus_encoded.append(sent)"
   ]
  },
  {
   "cell_type": "markdown",
   "id": "4ad91edd",
   "metadata": {},
   "source": [
    "Now change all indexes to embedding values"
   ]
  },
  {
   "cell_type": "code",
   "execution_count": 48,
   "id": "b79343f6",
   "metadata": {},
   "outputs": [
    {
     "data": {
      "text/plain": [
       "tensor([[-0.1306, -0.3280, -0.0750, -0.1300,  0.0642, -0.1433, -0.4171, -0.1534,\n",
       "          0.1246, -0.0748,  0.0847, -0.2814,  0.0397, -0.0774,  0.4458,  0.0449,\n",
       "         -0.0818, -0.0231, -0.5214, -0.1480, -0.0991, -0.2671,  0.0806, -0.3679,\n",
       "         -0.0903, -0.1182, -0.1862, -0.2450, -0.2729,  0.3462, -0.0665, -0.1306,\n",
       "         -0.0733,  0.2761, -0.3023, -0.1378,  0.0954, -0.2080, -0.4112, -0.2492,\n",
       "         -0.0520, -0.0233,  0.2505,  0.0764,  0.1327,  0.4381, -0.3206,  0.2613,\n",
       "         -0.0140, -0.4254]], grad_fn=<EmbeddingBackward0>)"
      ]
     },
     "execution_count": 48,
     "metadata": {},
     "output_type": "execute_result"
    }
   ],
   "source": [
    "model_cbw.embeddings(torch.tensor([1]))"
   ]
  },
  {
   "cell_type": "code",
   "execution_count": 49,
   "id": "7fc1b88f",
   "metadata": {},
   "outputs": [],
   "source": [
    "embed_train_vector = []\n",
    "for i in padded_train_corpus_encoded:\n",
    "    sent = []\n",
    "    for j in i:\n",
    "        emb_word = (model_cbw.embeddings(torch.tensor([j])).squeeze(0).tolist())\n",
    "        sent.append(emb_word)\n",
    "    embed_train_vector.append(sent) "
   ]
  },
  {
   "cell_type": "code",
   "execution_count": 50,
   "id": "6ca29799",
   "metadata": {},
   "outputs": [],
   "source": [
    "embed_test_vector = []\n",
    "for i in padded_test_corpus_encoded:\n",
    "    sent = []\n",
    "    for j in i:\n",
    "        emb_word = (model_cbw.embeddings(torch.tensor([j])).squeeze(0).tolist())\n",
    "        sent.append(emb_word)\n",
    "    embed_test_vector.append(sent) "
   ]
  },
  {
   "cell_type": "code",
   "execution_count": 51,
   "id": "2c6466fc",
   "metadata": {},
   "outputs": [
    {
     "data": {
      "text/plain": [
       "392"
      ]
     },
     "execution_count": 51,
     "metadata": {},
     "output_type": "execute_result"
    }
   ],
   "source": [
    "len(padded_test_corpus)"
   ]
  },
  {
   "cell_type": "markdown",
   "id": "550cafea",
   "metadata": {},
   "source": [
    "# Creating Training dataset for CBOW Embedding"
   ]
  },
  {
   "cell_type": "code",
   "execution_count": 52,
   "id": "ee73bfe5",
   "metadata": {},
   "outputs": [
    {
     "name": "stdout",
     "output_type": "stream",
     "text": [
      "torch.Size([1564, 12, 50])\n",
      "torch.Size([1564, 50, 12])\n",
      "torch.Size([392, 12, 50])\n",
      "torch.Size([392, 50, 12])\n"
     ]
    }
   ],
   "source": [
    "X_tensor_train_cbow = torch.tensor(embed_train_vector, dtype=torch.float32)    \n",
    "print(X_tensor_train_cbow.shape)\n",
    "\n",
    "#The expected sequence of nn.Conv1d is (batch_size, channels, sequence_length)\n",
    "# hence we change the shape (1564, 15, 50) to (1564, 50, 15)\n",
    "X_tensor_train_cbow = X_tensor_train_cbow.permute(0, 2, 1)\n",
    "print(X_tensor_train_cbow.shape)\n",
    "\n",
    "y_tensor_train = torch.tensor(np.array(y_train), dtype=torch.long)\n",
    "\n",
    "dataset_train_cbow_final = TensorDataset(X_tensor_train_cbow, y_tensor_train)\n",
    "dataloader_train_cbow_final = DataLoader(dataset_train_cbow_final, batch_size=10, shuffle=False,drop_last=False)\n",
    "\n",
    "\n",
    "X_tensor_test_cbow = torch.tensor(embed_test_vector, dtype=torch.float32)    \n",
    "print(X_tensor_test_cbow.shape)\n",
    "\n",
    "#The expected sequence of nn.Conv1d is (batch_size, channels, sequence_length)\n",
    "# hence we change the shape (1564, 15, 50) to (1564, 50, 15)\n",
    "X_tensor_test_cbow = X_tensor_test_cbow.permute(0, 2, 1)\n",
    "print(X_tensor_test_cbow.shape)\n",
    "\n",
    "y_tensor_test = torch.tensor(np.array(y_test), dtype=torch.long)\n",
    "\n",
    "dataset_test_cbow_final = TensorDataset(X_tensor_test_cbow, y_tensor_test)\n",
    "dataloader_test_cbow_final = DataLoader(dataset_test_cbow_final, batch_size=10, shuffle=False,drop_last=False)"
   ]
  },
  {
   "cell_type": "markdown",
   "id": "b792d947",
   "metadata": {},
   "source": [
    "# LSTM Model"
   ]
  },
  {
   "cell_type": "code",
   "execution_count": 53,
   "id": "4c0dc748",
   "metadata": {},
   "outputs": [],
   "source": [
    "class LSTM_spam_classify(nn.Module):\n",
    "    def __init__(self, input_dim = 50, embed_dim = 50, hidden_dim = 100, output_dim = 2, n_layers=2, dropout=0.2):\n",
    "        super(LSTM_spam_classify, self).__init__()\n",
    "        #self.embed =  nn.Embedding(num_embeddings = vocab_size, embedding_dim = embed_dim)\n",
    "        # lstm layer expects (batch_size, seq_len, input_size)\n",
    "        self.lstm = nn.LSTM(input_dim, hidden_dim, n_layers, batch_first=True, dropout=dropout)\n",
    "        self.fc = nn.Linear(hidden_dim, output_dim)\n",
    "        self.dropout = nn.Dropout(dropout)\n",
    "    \n",
    "    def forward(self, x):\n",
    "        #x = self.embed(x)\n",
    "        lstm_out, (h_n, c_n) = self.lstm(x)\n",
    "        last_hidden_state = h_n[-1]  \n",
    "        x = self.dropout(last_hidden_state)\n",
    "        out = self.fc(x) \n",
    "        return out\n"
   ]
  },
  {
   "cell_type": "markdown",
   "id": "f3ba2132",
   "metadata": {},
   "source": [
    "# LSTM Model with GLOVE Encoding"
   ]
  },
  {
   "cell_type": "code",
   "execution_count": null,
   "id": "52258c27",
   "metadata": {},
   "outputs": [],
   "source": []
  },
  {
   "cell_type": "code",
   "execution_count": 54,
   "id": "6e22fb79",
   "metadata": {},
   "outputs": [
    {
     "name": "stdout",
     "output_type": "stream",
     "text": [
      "0.6895752158134606\n",
      "0.6458763265685671\n",
      "0.5441114033103749\n",
      "0.5080407996466205\n",
      "0.48336169835488507\n",
      "0.4675503780317914\n",
      "0.45420198142528534\n",
      "0.44938402153124474\n",
      "0.44397543095479347\n",
      "0.437213965756878\n",
      "0.4336284573195846\n",
      "0.4294320481123438\n",
      "0.4188842463550294\n",
      "0.4163253396559673\n",
      "0.41063647964008293\n",
      "0.4020929489355938\n",
      "0.406751430575635\n",
      "0.397431654843745\n",
      "0.3929959912398818\n",
      "0.38933882435226136\n",
      "0.3890811477781861\n",
      "0.38657740674390917\n",
      "0.38389354101886414\n",
      "0.38169049822790607\n",
      "0.38520637963702725\n",
      "0.37795452752215847\n",
      "0.37998580496022655\n",
      "0.37408385562241836\n",
      "0.3725186747255599\n",
      "0.37014767819434213\n",
      "0.3600863599971791\n",
      "0.3586684953017979\n",
      "0.3522737789187272\n",
      "0.3556991436156877\n",
      "0.3487977829708415\n",
      "0.3476884334472714\n",
      "0.33748576132829783\n",
      "0.3394838646528827\n",
      "0.3379926317294312\n",
      "0.3309104584845578\n"
     ]
    }
   ],
   "source": [
    "model = LSTM_spam_classify()\n",
    "criterion = nn.CrossEntropyLoss()\n",
    "optimizer = torch.optim.Adam(model.parameters(), lr=0.0001)\n",
    "train_losses = []\n",
    "num_epochs = 40\n",
    "\n",
    "for epoch in range(num_epochs):\n",
    "    running_loss = 0\n",
    "    model.train()\n",
    "    for inputs, labels in dataloader_train:\n",
    "        #inputs = inputs.float()\n",
    "        #labels = labels.float()\n",
    "        #inputs = inputs.permute(0,2,1)\n",
    "        #print(inputs.shape)\n",
    "        #print(labels.shape)\n",
    "        outputs = model(inputs)\n",
    "        #print(outputs.shape)\n",
    "        loss = criterion(outputs, labels.squeeze(1))\n",
    "        #print(loss)\n",
    "        optimizer.zero_grad()\n",
    "        loss.backward()\n",
    "        #get_norm()\n",
    "        torch.nn.utils.clip_grad_norm_(model.parameters(), max_norm=1.0)\n",
    "        optimizer.step()\n",
    "        \n",
    "        running_loss += loss.item()\n",
    "    avg_train_loss = running_loss / len(dataloader_train)\n",
    "    print(avg_train_loss)\n",
    "    train_losses.append(avg_train_loss)\n",
    "\n",
    "    #print(f\"Epoch {epoch+1}/{num_epochs} | Loss: {loss.item():.4f}\")\n",
    " "
   ]
  },
  {
   "cell_type": "markdown",
   "id": "191967d0",
   "metadata": {},
   "source": [
    "# Let us swap the prediction method into the code that doesnt work"
   ]
  },
  {
   "cell_type": "code",
   "execution_count": 56,
   "id": "42770ada",
   "metadata": {},
   "outputs": [],
   "source": [
    "# Predictions on training data\n",
    "\n",
    "model.eval() \n",
    "\n",
    "train_preds = []\n",
    "\n",
    "with torch.no_grad(): \n",
    "    for inputs, labels in dataloader_train:  \n",
    "        outputs_train = model(inputs) \n",
    "        preds = torch.argmax(outputs_train, dim=1) \n",
    "        train_preds.extend(preds.numpy())\n"
   ]
  },
  {
   "cell_type": "code",
   "execution_count": 57,
   "id": "8d2560e8",
   "metadata": {},
   "outputs": [],
   "source": [
    "model.eval() \n",
    "\n",
    "test_preds = []\n",
    "\n",
    "with torch.no_grad(): \n",
    "    for inputs, labels in dataloader_test:  \n",
    "        outputs_test = model(inputs) \n",
    "        preds = torch.argmax(outputs_test, dim=1) \n",
    "        test_preds.extend(preds.numpy())"
   ]
  },
  {
   "cell_type": "code",
   "execution_count": null,
   "id": "dd07758b",
   "metadata": {},
   "outputs": [],
   "source": []
  },
  {
   "cell_type": "code",
   "execution_count": 58,
   "id": "02d72740",
   "metadata": {},
   "outputs": [
    {
     "name": "stdout",
     "output_type": "stream",
     "text": [
      "training accuracy is 0.846\n",
      "test accuracy is 0.788\n",
      "training precision is 0.835\n",
      "test precision is 0.766\n",
      "training recall is 0.873\n",
      "test recall is 0.846\n",
      "              precision    recall  f1-score   support\n",
      "\n",
      "           0       0.86      0.82      0.84       760\n",
      "           1       0.83      0.87      0.85       804\n",
      "\n",
      "    accuracy                           0.85      1564\n",
      "   macro avg       0.85      0.85      0.85      1564\n",
      "weighted avg       0.85      0.85      0.85      1564\n",
      "\n",
      "              precision    recall  f1-score   support\n",
      "\n",
      "           0       0.82      0.73      0.77       191\n",
      "           1       0.77      0.85      0.80       201\n",
      "\n",
      "    accuracy                           0.79       392\n",
      "   macro avg       0.79      0.79      0.79       392\n",
      "weighted avg       0.79      0.79      0.79       392\n",
      "\n"
     ]
    }
   ],
   "source": [
    "# Training accuracy\n",
    "cnn_train_accuracy = accuracy_score(y_train, train_preds)\n",
    "# Testing accuracy\n",
    "cnn_test_accuracy = accuracy_score(y_test, test_preds)\n",
    "\n",
    "cnn_train_precision = precision_score(y_train, train_preds)\n",
    "cnn_test_precision = precision_score(y_test, test_preds)\n",
    "\n",
    "cnn_train_recall = recall_score(y_train, train_preds)\n",
    "cnn_test_recall = recall_score(y_test, test_preds)\n",
    "\n",
    "print(\"training accuracy is {0}\".format(round(cnn_train_accuracy,3)))\n",
    "print(\"test accuracy is {0}\".format(round(cnn_test_accuracy,3)))\n",
    "\n",
    "print(\"training precision is {0}\".format(round(cnn_train_precision,3)))\n",
    "print(\"test precision is {0}\".format(round(cnn_test_precision,3)))\n",
    "\n",
    "print(\"training recall is {0}\".format(round(cnn_train_recall,3)))\n",
    "print(\"test recall is {0}\".format(round(cnn_test_recall,3)))\n",
    "\n",
    "print(classification_report(y_train, train_preds))\n",
    "print(classification_report(y_test, test_preds))"
   ]
  },
  {
   "cell_type": "markdown",
   "id": "060b97e5",
   "metadata": {},
   "source": [
    "# LSTM Model with CBOW Encoding"
   ]
  },
  {
   "cell_type": "code",
   "execution_count": 59,
   "id": "06d999a1",
   "metadata": {},
   "outputs": [
    {
     "name": "stdout",
     "output_type": "stream",
     "text": [
      "0.6840422738129925\n",
      "0.6042166564874588\n",
      "0.5055857901550402\n",
      "0.45802175979705373\n",
      "0.41882342954350127\n",
      "0.3664397383286695\n",
      "0.3281823939815828\n",
      "0.31787481220664493\n",
      "0.2732369003781847\n",
      "0.26099183754461586\n",
      "0.2222289748394945\n",
      "0.2484635910980261\n",
      "0.2076655717145438\n",
      "0.19477549467567995\n",
      "0.18484180598596858\n",
      "0.17500262515868542\n",
      "0.14796504734831442\n",
      "0.1161871700900589\n",
      "0.10174518486389973\n",
      "0.1296663056164802\n",
      "0.11311000940585687\n",
      "0.07092812583058077\n",
      "0.08792220305348895\n",
      "0.0670159558619515\n",
      "0.05837612884611508\n",
      "0.07682991373333427\n",
      "0.06277988837797574\n",
      "0.04749971480260063\n",
      "0.03454258891395708\n",
      "0.024392171333775952\n",
      "0.06128988093766977\n",
      "0.05329338686995725\n",
      "0.0624088977927351\n",
      "0.06751248120236845\n",
      "0.03049023125311775\n",
      "0.02830711540756421\n",
      "0.022240571595332066\n",
      "0.02060391557243301\n",
      "0.017780498667999398\n",
      "0.022607800845122303\n"
     ]
    }
   ],
   "source": [
    "model2 = LSTM_spam_classify()\n",
    "criterion = nn.CrossEntropyLoss()\n",
    "optimizer = torch.optim.Adam(model2.parameters(), lr=0.001)\n",
    "train_losses = []\n",
    "num_epochs = 40\n",
    "\n",
    "for epoch in range(num_epochs):\n",
    "    running_loss = 0\n",
    "    model.train()\n",
    "    for inputs, labels in dataloader_train_cbow_final:\n",
    "        #inputs = inputs.float()\n",
    "        #labels = labels.float()\n",
    "        #inputs = inputs.permute(0,2,1)\n",
    "        #print(inputs.shape)\n",
    "        #print(labels.shape)\n",
    "        outputs = model2(inputs)\n",
    "        #print(outputs.shape)\n",
    "        loss = criterion(outputs, labels.squeeze(1))\n",
    "        #print(loss)\n",
    "        optimizer.zero_grad()\n",
    "        loss.backward()\n",
    "        #get_norm()\n",
    "        torch.nn.utils.clip_grad_norm_(model.parameters(), max_norm=1.0)\n",
    "        optimizer.step()\n",
    "        \n",
    "        running_loss += loss.item()\n",
    "    avg_train_loss = running_loss / len(dataloader_train)\n",
    "    print(avg_train_loss)\n",
    "    train_losses.append(avg_train_loss)\n",
    "\n",
    "    #print(f\"Epoch {epoch+1}/{num_epochs} | Loss: {loss.item():.4f}\")\n",
    " "
   ]
  },
  {
   "cell_type": "code",
   "execution_count": 57,
   "id": "a22fcfe2",
   "metadata": {},
   "outputs": [],
   "source": [
    "# Predictions on training data\n",
    "\n",
    "model2.eval() \n",
    "\n",
    "train_preds = []\n",
    "\n",
    "with torch.no_grad(): \n",
    "    for inputs, labels in dataloader_train_cbow_final:  \n",
    "        outputs_train = model2(inputs) \n",
    "        preds = torch.argmax(outputs_train, dim=1) \n",
    "        train_preds.extend(preds.numpy())\n"
   ]
  },
  {
   "cell_type": "code",
   "execution_count": 60,
   "id": "e48aa37d",
   "metadata": {},
   "outputs": [],
   "source": [
    "model2.eval() \n",
    "\n",
    "test_preds = []\n",
    "\n",
    "with torch.no_grad(): \n",
    "    for inputs, labels in dataloader_test_cbow_final:  \n",
    "        outputs_test = model2(inputs) \n",
    "        preds = torch.argmax(outputs_test, dim=1) \n",
    "        test_preds.extend(preds.numpy())"
   ]
  },
  {
   "cell_type": "code",
   "execution_count": 61,
   "id": "8a8c7db3",
   "metadata": {},
   "outputs": [
    {
     "name": "stdout",
     "output_type": "stream",
     "text": [
      "training accuracy is 0.846\n",
      "test accuracy is 0.758\n",
      "training precision is 0.835\n",
      "test precision is 0.743\n",
      "training recall is 0.873\n",
      "test recall is 0.806\n",
      "              precision    recall  f1-score   support\n",
      "\n",
      "           0       0.86      0.82      0.84       760\n",
      "           1       0.83      0.87      0.85       804\n",
      "\n",
      "    accuracy                           0.85      1564\n",
      "   macro avg       0.85      0.85      0.85      1564\n",
      "weighted avg       0.85      0.85      0.85      1564\n",
      "\n",
      "              precision    recall  f1-score   support\n",
      "\n",
      "           0       0.78      0.71      0.74       191\n",
      "           1       0.74      0.81      0.77       201\n",
      "\n",
      "    accuracy                           0.76       392\n",
      "   macro avg       0.76      0.76      0.76       392\n",
      "weighted avg       0.76      0.76      0.76       392\n",
      "\n"
     ]
    }
   ],
   "source": [
    "# Training accuracy\n",
    "cnn_train_accuracy = accuracy_score(y_train, train_preds)\n",
    "# Testing accuracy\n",
    "cnn_test_accuracy = accuracy_score(y_test, test_preds)\n",
    "\n",
    "cnn_train_precision = precision_score(y_train, train_preds)\n",
    "cnn_test_precision = precision_score(y_test, test_preds)\n",
    "\n",
    "cnn_train_recall = recall_score(y_train, train_preds)\n",
    "cnn_test_recall = recall_score(y_test, test_preds)\n",
    "\n",
    "print(\"training accuracy is {0}\".format(round(cnn_train_accuracy,3)))\n",
    "print(\"test accuracy is {0}\".format(round(cnn_test_accuracy,3)))\n",
    "\n",
    "print(\"training precision is {0}\".format(round(cnn_train_precision,3)))\n",
    "print(\"test precision is {0}\".format(round(cnn_test_precision,3)))\n",
    "\n",
    "print(\"training recall is {0}\".format(round(cnn_train_recall,3)))\n",
    "print(\"test recall is {0}\".format(round(cnn_test_recall,3)))\n",
    "\n",
    "print(classification_report(y_train, train_preds))\n",
    "print(classification_report(y_test, test_preds))"
   ]
  },
  {
   "cell_type": "markdown",
   "id": "dad3e4f3",
   "metadata": {},
   "source": [
    "# Conclusion"
   ]
  },
  {
   "cell_type": "markdown",
   "id": "2cac0d57",
   "metadata": {},
   "source": [
    "We can observe overfitting to be an issue with CBOW as it was trained on a small dataset which is not present in glove"
   ]
  },
  {
   "cell_type": "markdown",
   "id": "e0623623",
   "metadata": {},
   "source": [
    "# Skipgram"
   ]
  },
  {
   "cell_type": "markdown",
   "id": "c76637e3",
   "metadata": {},
   "source": [
    "A skipgram is where we use target word to predict context word. The will be 1 to 1 mapping for words with target words repeating multiple time"
   ]
  },
  {
   "cell_type": "markdown",
   "id": "22b3d52b",
   "metadata": {},
   "source": [
    "### Data creation for Skipgram"
   ]
  },
  {
   "cell_type": "markdown",
   "id": "4476a69c",
   "metadata": {},
   "source": [
    "We will reuse the datastructure we built for CBOW and reformat it for skipgram"
   ]
  },
  {
   "cell_type": "code",
   "execution_count": 62,
   "id": "a99ef919",
   "metadata": {},
   "outputs": [
    {
     "data": {
      "text/plain": [
       "['video',\n",
       " 'large',\n",
       " 'number',\n",
       " 'view',\n",
       " 'large',\n",
       " 'number',\n",
       " 'million',\n",
       " 'people',\n",
       " 'earth']"
      ]
     },
     "execution_count": 62,
     "metadata": {},
     "output_type": "execute_result"
    }
   ],
   "source": [
    "train_corpus[0]"
   ]
  },
  {
   "cell_type": "code",
   "execution_count": 63,
   "id": "38e239a6",
   "metadata": {},
   "outputs": [],
   "source": [
    "def create_skipgram_corpus(train_corpus):\n",
    "    for i in train_corpus:\n",
    "        target_list = []\n",
    "        context_list = []\n",
    "        for idx,j in enumerate(i):\n",
    "            if len(i) > 3:\n",
    "                #print(j)\n",
    "                if idx == 0 :\n",
    "                    #print(000)\n",
    "                    context_list.append(i[idx + 1])\n",
    "                    context_list.append(i[idx + 2])\n",
    "                    target_list += [j]*2\n",
    "                elif idx == 1 :\n",
    "                    #print(111)\n",
    "                    context_list.append(i[idx - 1])\n",
    "                    context_list.append(i[idx + 1])\n",
    "                    context_list.append(i[idx + 2])\n",
    "                    target_list += [j]*3\n",
    "                elif idx == (len(i) - 1):\n",
    "                    #print(222)\n",
    "                    context_list.append(i[idx - 1])\n",
    "                    context_list.append(i[idx - 2])\n",
    "                    target_list += [j]*2\n",
    "                elif idx == (len(i) - 2):\n",
    "                    #print(222)\n",
    "                    context_list.append(i[idx - 1])\n",
    "                    context_list.append(i[idx - 2])\n",
    "                    context_list.append(i[idx + 1])\n",
    "                    target_list += [j]*3\n",
    "                elif (idx >= 2) and (idx < (len(i) - 2)):\n",
    "                    #print(333)\n",
    "                    context_list.append(i[idx - 2])\n",
    "                    context_list.append(i[idx - 1])\n",
    "                    context_list.append(i[idx + 1])\n",
    "                    context_list.append(i[idx + 2])\n",
    "\n",
    "                    target_list += [j] * 4\n",
    "                else:\n",
    "                    #print(444)\n",
    "                    context_list.append(i[idx - 1])\n",
    "                    context_list.append(i[idx + 1])\n",
    "                    target_list += [j] * 2\n",
    "            else:\n",
    "                pass\n",
    "    return(target_list,context_list)\n",
    "            "
   ]
  },
  {
   "cell_type": "code",
   "execution_count": 64,
   "id": "c25ab5f2",
   "metadata": {},
   "outputs": [],
   "source": [
    "target_skip, context_skip = create_skipgram_corpus(train_corpus)"
   ]
  },
  {
   "cell_type": "code",
   "execution_count": 65,
   "id": "c68c1fbf",
   "metadata": {},
   "outputs": [],
   "source": [
    "def convert_list_to_num(list_wrds,word_dict):\n",
    "    skip_num = []\n",
    "    for i in list_wrds:\n",
    "        if i in  word_dict:\n",
    "            skip_num.append(word_dict[i])\n",
    "        else:\n",
    "            skip_num.append(1)\n",
    "    return(skip_num)"
   ]
  },
  {
   "cell_type": "code",
   "execution_count": 66,
   "id": "a174d461",
   "metadata": {},
   "outputs": [],
   "source": [
    "target_skip_num = convert_list_to_num(target_skip,filtered_all_words)\n",
    "context_skip_num = convert_list_to_num(context_skip,filtered_all_words)"
   ]
  },
  {
   "cell_type": "code",
   "execution_count": 67,
   "id": "8e8e1dee",
   "metadata": {},
   "outputs": [
    {
     "data": {
      "text/plain": [
       "[1, 15, 1, 1, 15, 4, 1, 5, 4, 1, 5, 3, 1, 1, 3, 5, 1, 5, 5, 274, 5, 3, 274, 4]"
      ]
     },
     "execution_count": 67,
     "metadata": {},
     "output_type": "execute_result"
    }
   ],
   "source": [
    "target_skip_num[1:25]\n",
    "context_skip_num[1:25]"
   ]
  },
  {
   "cell_type": "markdown",
   "id": "ab4de099",
   "metadata": {},
   "source": [
    "<b> Let us create a dictionary for a target and label matching vector </b>"
   ]
  },
  {
   "cell_type": "code",
   "execution_count": 70,
   "id": "3204caa6",
   "metadata": {},
   "outputs": [],
   "source": [
    "comprehensive_dict = {}\n",
    "for i,j in zip(target_skip_num,context_skip_num):\n",
    "    if i not in comprehensive_dict:\n",
    "        comprehensive_dict[i] = [j]\n",
    "    else:\n",
    "        comprehensive_dict[i].append(j)"
   ]
  },
  {
   "cell_type": "code",
   "execution_count": 88,
   "id": "153272a3",
   "metadata": {},
   "outputs": [
    {
     "name": "stdout",
     "output_type": "stream",
     "text": [
      "15 -> <class 'int'>\n",
      "1 -> <class 'int'>\n",
      "1 -> <class 'int'>\n",
      "5 -> <class 'int'>\n",
      "274 -> <class 'int'>\n",
      "24 -> <class 'int'>\n",
      "24 -> <class 'int'>\n"
     ]
    }
   ],
   "source": [
    "for element in comprehensive_dict[4]:\n",
    "    print(f'{element} -> {type(element)}')"
   ]
  },
  {
   "cell_type": "markdown",
   "id": "89b4e845",
   "metadata": {},
   "source": [
    "### Creating a pytorch training dataset for Skipgram"
   ]
  },
  {
   "cell_type": "code",
   "execution_count": 74,
   "id": "713fea40",
   "metadata": {},
   "outputs": [],
   "source": [
    "target_skip_tensor = torch.tensor(target_skip_num, dtype = torch.long)\n",
    "context_skip_tensor = torch.tensor(context_skip_num, dtype = torch.long)\n",
    "\n",
    "dataset_train_skip = TensorDataset(target_skip_tensor, context_skip_tensor)\n",
    "dataloader_train_skip = DataLoader(dataset_train_skip, batch_size=10, shuffle=False,drop_last=False)"
   ]
  },
  {
   "cell_type": "markdown",
   "id": "7e2d450c",
   "metadata": {},
   "source": [
    "### Build a Skipgram Model"
   ]
  },
  {
   "cell_type": "code",
   "execution_count": 75,
   "id": "72df5587",
   "metadata": {},
   "outputs": [],
   "source": [
    "class SkipGramModel(nn.Module):\n",
    "    def __init__(self, vocab_size, embedding_dim):\n",
    "        super(SkipGramModel, self).__init__()\n",
    "        self.embedding = nn.Embedding(vocab_size, embedding_dim)\n",
    "        self.output = nn.Linear(embedding_dim, vocab_size)\n",
    "\n",
    "    def forward(self, center):\n",
    "        embed = self.embedding(center)\n",
    "        out = self.output(embed)\n",
    "        return out\n"
   ]
  },
  {
   "cell_type": "code",
   "execution_count": 76,
   "id": "90177752",
   "metadata": {},
   "outputs": [
    {
     "name": "stdout",
     "output_type": "stream",
     "text": [
      "Epoch 1, Loss: 46.7078\n",
      "Epoch 2, Loss: 37.9226\n",
      "Epoch 3, Loss: 30.0930\n",
      "Epoch 4, Loss: 22.8505\n",
      "Epoch 5, Loss: 17.7048\n",
      "Epoch 6, Loss: 14.8496\n",
      "Epoch 7, Loss: 13.4327\n",
      "Epoch 8, Loss: 12.7436\n",
      "Epoch 9, Loss: 12.3577\n",
      "Epoch 10, Loss: 12.1121\n"
     ]
    }
   ],
   "source": [
    "vocab_size = len(filtered_all_words) + 1\n",
    "embed_dim = 50\n",
    "\n",
    "model_skip = SkipGramModel(vocab_size, embed_dim)\n",
    "criterion = nn.CrossEntropyLoss()\n",
    "optimizer = torch.optim.Adam(model_skip.parameters(), lr=0.01)\n",
    "\n",
    "# Training\n",
    "for epoch in range(10):\n",
    "    total_loss = 0\n",
    "    for center_batch, context_batch in dataloader_train_skip:\n",
    "        output = model_skip(center_batch)  \n",
    "        \n",
    "        preds = torch.argmax(output, dim=1)\n",
    "        loss = criterion(output, context_batch)\n",
    "        optimizer.zero_grad()\n",
    "        loss.backward()\n",
    "        optimizer.step()\n",
    "\n",
    "        total_loss += loss.item()\n",
    "    \n",
    "    print(f\"Epoch {epoch+1}, Loss: {total_loss:.4f}\")\n"
   ]
  },
  {
   "cell_type": "code",
   "execution_count": 94,
   "id": "d5382588",
   "metadata": {},
   "outputs": [
    {
     "name": "stdout",
     "output_type": "stream",
     "text": [
      "Skip-gram prediction accuracy: 1.0000\n"
     ]
    }
   ],
   "source": [
    "predictions = {}\n",
    "with torch.no_grad():\n",
    "    correct = 0\n",
    "    total = 0\n",
    "    for center, context in dataloader_train_skip:\n",
    "        #print(center)\n",
    "        output = model_skip(center)  \n",
    "        preds = torch.argmax(output, dim=1)\n",
    "        for inx,targ in enumerate(center):\n",
    "            val = int(int(preds[inx]) in comprehensive_dict[int(targ)])\n",
    "            correct += val\n",
    "            #print(\"prediction\",preds[inx])\n",
    "            #print(\"actual\",comprehensive_dict[int(targ)])\n",
    "        #correct += (preds == context).sum().item()\n",
    "        total += context.size(0)\n",
    "    accuracy = correct / total\n",
    "    print(f\"Skip-gram prediction accuracy: {accuracy:.4f}\")\n"
   ]
  },
  {
   "cell_type": "code",
   "execution_count": 87,
   "id": "e1e02f56",
   "metadata": {},
   "outputs": [
    {
     "name": "stdout",
     "output_type": "stream",
     "text": [
      "0.0\n",
      "1.0\n",
      "2.0\n",
      "3.0\n",
      "4.0\n",
      "5.0\n",
      "6.0\n",
      "7.0\n",
      "8.0\n",
      "9.0\n"
     ]
    }
   ],
   "source": [
    "for i,j in enumerate(torch.tensor([15, 15,  4,  4,  4,  1,  1,  1,  1,  1])):\n",
    "    print(float(i))"
   ]
  },
  {
   "cell_type": "markdown",
   "id": "c786c8ad",
   "metadata": {},
   "source": [
    "# Get word embeddings for each word"
   ]
  },
  {
   "cell_type": "code",
   "execution_count": 103,
   "id": "e1842cfa",
   "metadata": {},
   "outputs": [],
   "source": [
    "embed_train_vector_skip = []\n",
    "for i in padded_train_corpus_encoded:\n",
    "    sent = []\n",
    "    for j in i:\n",
    "        #print(j)\n",
    "        if j == 0:\n",
    "            emb_word = torch.tensor(np.zeros(50))\n",
    "        else:\n",
    "            emb_word = (model_skip.embedding(torch.tensor([j-1])).squeeze(0).tolist())\n",
    "        sent.append(emb_word)\n",
    "    embed_train_vector_skip.append(sent) "
   ]
  },
  {
   "cell_type": "code",
   "execution_count": 104,
   "id": "e6276dc2",
   "metadata": {},
   "outputs": [],
   "source": [
    "embed_test_vector_skip = []\n",
    "for i in padded_test_corpus_encoded:\n",
    "    sent = []\n",
    "    for j in i:\n",
    "        #print(j)\n",
    "        if j == 0:\n",
    "            emb_word = torch.tensor(np.zeros(50))\n",
    "        else:\n",
    "            emb_word = (model_skip.embedding(torch.tensor([j-1])).squeeze(0).tolist())\n",
    "        sent.append(emb_word)\n",
    "    embed_test_vector_skip.append(sent) "
   ]
  },
  {
   "cell_type": "code",
   "execution_count": 105,
   "id": "5d1a9847",
   "metadata": {},
   "outputs": [
    {
     "name": "stdout",
     "output_type": "stream",
     "text": [
      "torch.Size([1564, 12, 50])\n",
      "torch.Size([1564, 50, 12])\n",
      "torch.Size([392, 12, 50])\n",
      "torch.Size([392, 50, 12])\n"
     ]
    }
   ],
   "source": [
    "X_tensor_train_skip = torch.tensor(embed_train_vector_skip, dtype=torch.float32)    \n",
    "print(X_tensor_train_skip.shape)\n",
    "\n",
    "#The expected sequence of nn.Conv1d is (batch_size, channels, sequence_length)\n",
    "# hence we change the shape (1564, 15, 50) to (1564, 50, 15)\n",
    "X_tensor_train_skip = X_tensor_train_skip.permute(0, 2, 1)\n",
    "print(X_tensor_train_skip.shape)\n",
    "\n",
    "y_tensor_train = torch.tensor(np.array(y_train), dtype=torch.long)\n",
    "\n",
    "dataset_train_skip_final = TensorDataset(X_tensor_train_skip, y_tensor_train)\n",
    "dataloader_train_skip_final = DataLoader(dataset_train_skip_final, batch_size=10, shuffle=False,drop_last=False)\n",
    "\n",
    "\n",
    "X_tensor_test_skip = torch.tensor(embed_test_vector_skip, dtype=torch.float32)    \n",
    "print(X_tensor_test_skip.shape)\n",
    "\n",
    "#The expected sequence of nn.Conv1d is (batch_size, channels, sequence_length)\n",
    "# hence we change the shape (1564, 15, 50) to (1564, 50, 15)\n",
    "X_tensor_test_skip = X_tensor_test_skip.permute(0, 2, 1)\n",
    "print(X_tensor_test_skip.shape)\n",
    "\n",
    "y_tensor_test = torch.tensor(np.array(y_test), dtype=torch.long)\n",
    "\n",
    "dataset_test_skip_final = TensorDataset(X_tensor_test_skip, y_tensor_test)\n",
    "dataloader_test_skip_final = DataLoader(dataset_test_skip_final, batch_size=10, shuffle=False,drop_last=False)"
   ]
  },
  {
   "cell_type": "code",
   "execution_count": 106,
   "id": "092e936f",
   "metadata": {},
   "outputs": [
    {
     "name": "stdout",
     "output_type": "stream",
     "text": [
      "0.17676285383807624\n",
      "0.17378935084980765\n",
      "0.20718121243889925\n",
      "0.17680333602200649\n",
      "0.17288797714148357\n",
      "0.16919684694830778\n",
      "0.17604487640842512\n",
      "0.17746795666445592\n",
      "0.17357014280975244\n",
      "0.1728519189889264\n",
      "0.17319917982550942\n",
      "0.17321116567417316\n",
      "0.16529188471235287\n",
      "0.17784722329704625\n",
      "0.16098718468550663\n",
      "0.15442916826837383\n",
      "0.15604617944948232\n",
      "0.16263728422723758\n",
      "0.16356975884194586\n",
      "0.1582968214135261\n",
      "0.15384659417875254\n",
      "0.1447944176045193\n",
      "0.13393385490034795\n",
      "0.12408586634192498\n",
      "0.10846863478232341\n",
      "0.10480645023713446\n",
      "0.09372278442902929\n",
      "0.08625432363693501\n",
      "0.06537670474855384\n",
      "0.05481062842248257\n",
      "0.054647522492061375\n",
      "0.05549473755334498\n",
      "0.05533438702084267\n",
      "0.036883278067704216\n",
      "0.029119872382047118\n",
      "0.026307348726216442\n",
      "0.024907106658959892\n",
      "0.0357026521192128\n",
      "0.015942147796510892\n",
      "0.011890258048890918\n"
     ]
    }
   ],
   "source": [
    "model3 = LSTM_spam_classify()\n",
    "criterion = nn.CrossEntropyLoss()\n",
    "optimizer = torch.optim.Adam(model3.parameters(), lr=0.001)\n",
    "train_losses = []\n",
    "num_epochs = 40\n",
    "\n",
    "for epoch in range(num_epochs):\n",
    "    running_loss = 0\n",
    "    model3.train()\n",
    "    for inputs, labels in dataloader_test_skip_final:\n",
    "        #inputs = inputs.float()\n",
    "        #labels = labels.float()\n",
    "        #inputs = inputs.permute(0,2,1)\n",
    "        #print(inputs.shape)\n",
    "        #print(labels.shape)\n",
    "        outputs = model3(inputs)\n",
    "        #print(outputs.shape)\n",
    "        loss = criterion(outputs, labels.squeeze(1))\n",
    "        #print(loss)\n",
    "        optimizer.zero_grad()\n",
    "        loss.backward()\n",
    "        #get_norm()\n",
    "        torch.nn.utils.clip_grad_norm_(model3.parameters(), max_norm=1.0)\n",
    "        optimizer.step()\n",
    "        \n",
    "        running_loss += loss.item()\n",
    "    avg_train_loss = running_loss / len(dataloader_train)\n",
    "    print(avg_train_loss)\n",
    "    train_losses.append(avg_train_loss)\n",
    "\n",
    "    #print(f\"Epoch {epoch+1}/{num_epochs} | Loss: {loss.item():.4f}\")\n",
    " "
   ]
  },
  {
   "cell_type": "code",
   "execution_count": 118,
   "id": "7de4ad43",
   "metadata": {},
   "outputs": [
    {
     "name": "stdout",
     "output_type": "stream",
     "text": [
      "1564\n",
      "157\n"
     ]
    }
   ],
   "source": [
    "# Predictions on training data\n",
    "\n",
    "model3.eval() \n",
    "\n",
    "train_preds = []\n",
    "actual = []\n",
    "\n",
    "with torch.no_grad(): \n",
    "    for inputs, labels in dataloader_train_skip_final:  \n",
    "        actual.append(labels)\n",
    "        outputs_train = model3(inputs) \n",
    "        preds = torch.argmax(outputs_train, dim=1) \n",
    "        train_preds.extend(preds.numpy())\n",
    "print(len(train_preds))\n",
    "print(len(actual))"
   ]
  },
  {
   "cell_type": "code",
   "execution_count": 119,
   "id": "182d2bee",
   "metadata": {},
   "outputs": [],
   "source": [
    "model3.eval() \n",
    "\n",
    "test_preds = []\n",
    "\n",
    "with torch.no_grad(): \n",
    "    for inputs, labels in dataloader_test_skip_final:  \n",
    "        outputs_test = model3(inputs) \n",
    "        preds = torch.argmax(outputs_test, dim=1) \n",
    "        test_preds.extend(preds.numpy())"
   ]
  },
  {
   "cell_type": "code",
   "execution_count": 120,
   "id": "9f8ba628",
   "metadata": {},
   "outputs": [
    {
     "name": "stdout",
     "output_type": "stream",
     "text": [
      "training accuracy is 0.754\n",
      "test accuracy is 0.99\n",
      "training precision is 0.772\n",
      "test precision is 0.985\n",
      "training recall is 0.741\n",
      "test recall is 0.995\n",
      "              precision    recall  f1-score   support\n",
      "\n",
      "           0       0.74      0.77      0.75       760\n",
      "           1       0.77      0.74      0.76       804\n",
      "\n",
      "    accuracy                           0.75      1564\n",
      "   macro avg       0.75      0.75      0.75      1564\n",
      "weighted avg       0.76      0.75      0.75      1564\n",
      "\n",
      "              precision    recall  f1-score   support\n",
      "\n",
      "           0       0.99      0.98      0.99       191\n",
      "           1       0.99      1.00      0.99       201\n",
      "\n",
      "    accuracy                           0.99       392\n",
      "   macro avg       0.99      0.99      0.99       392\n",
      "weighted avg       0.99      0.99      0.99       392\n",
      "\n"
     ]
    }
   ],
   "source": [
    "# Training accuracy\n",
    "cnn_train_accuracy = accuracy_score(y_train, train_preds)\n",
    "# Testing accuracy\n",
    "cnn_test_accuracy = accuracy_score(y_test, test_preds)\n",
    "\n",
    "cnn_train_precision = precision_score(y_train, train_preds)\n",
    "cnn_test_precision = precision_score(y_test, test_preds)\n",
    "\n",
    "cnn_train_recall = recall_score(y_train, train_preds)\n",
    "cnn_test_recall = recall_score(y_test, test_preds)\n",
    "\n",
    "print(\"training accuracy is {0}\".format(round(cnn_train_accuracy,3)))\n",
    "print(\"test accuracy is {0}\".format(round(cnn_test_accuracy,3)))\n",
    "\n",
    "print(\"training precision is {0}\".format(round(cnn_train_precision,3)))\n",
    "print(\"test precision is {0}\".format(round(cnn_test_precision,3)))\n",
    "\n",
    "print(\"training recall is {0}\".format(round(cnn_train_recall,3)))\n",
    "print(\"test recall is {0}\".format(round(cnn_test_recall,3)))\n",
    "\n",
    "print(classification_report(y_train, train_preds))\n",
    "print(classification_report(y_test, test_preds))"
   ]
  }
 ],
 "metadata": {
  "kernelspec": {
   "display_name": "Python 3 (ipykernel)",
   "language": "python",
   "name": "python3"
  },
  "language_info": {
   "codemirror_mode": {
    "name": "ipython",
    "version": 3
   },
   "file_extension": ".py",
   "mimetype": "text/x-python",
   "name": "python",
   "nbconvert_exporter": "python",
   "pygments_lexer": "ipython3",
   "version": "3.11.3"
  }
 },
 "nbformat": 4,
 "nbformat_minor": 5
}
